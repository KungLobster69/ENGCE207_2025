{
 "cells": [
  {
   "cell_type": "code",
   "execution_count": null,
   "id": "a06d50cd",
   "metadata": {},
   "outputs": [],
   "source": [
    "import pandas as pd\n",
    "import numpy as np\n",
    "\n",
    "df = pd.read_csv(\"vgsales.csv\")\n",
    "df.dropna(subset=['Year'], inplace=True)\n",
    "\n",
    "#ส่วนที่ 4: การจัดการข้อมูลอื่นๆ และการสร้างคอลัมน์ใหม่\n",
    "\n",
    "print(\"--- ส่วนที่ 4: การจัดการข้อมูลอื่นๆ และการสร้างคอลัมน์ใหม่ ---\")\n",
    "\n",
    "# 4.1 การเรียงลำดับข้อมูล\n",
    "print(\"\\n4.1 เรียงลำดับข้อมูลตาม Globl_Sales (มากไปน้อย):\")\n",
    "df_sorted = df.sort_values(by='Global_Sales', ascending=False)\n",
    "print(df_sorted.head())\n",
    "\n",
    "# 4.2 การสร้างคอลัมน์ใหม่ (Featur Engineering)\n",
    "print(\"\\n4.2.1 สร้างคอลัมน์ 'Sales_Outside_JP':\")\n",
    "df['Sales_Outside_JP'] = df['NA_Sales'] + df['EU_Sales'] + df['Other_Sales']\n",
    "print(df[['Name', 'NA_Sales', 'EU_Sales', 'Other_Sales', 'Sales_Outside_JP']].head())\n",
    "\n",
    "print(\"\\n4.2.2 สร้างคอลัมน์ 'Release_Decade':\")\n",
    "\n",
    "df['Year'] = df['Year'].astype(int)\n",
    "\n",
    "def find_decade(year):\n",
    "    if 1980 <= year < 1990:\n",
    "        return '1980s'\n",
    "    elif 1990<= year <2000:\n",
    "        return '1990s'\n",
    "    elif 2000<= year <2010:\n",
    "        return '2000s'\n",
    "    else:\n",
    "        return '2010s_and_later'\n",
    "    \n",
    "df['Release_Decade'] = df['Year'].apply(find_decade)"
   ]
  }
 ],
 "metadata": {
  "kernelspec": {
   "display_name": "Python 3",
   "language": "python",
   "name": "python3"
  },
  "language_info": {
   "codemirror_mode": {
    "name": "ipython",
    "version": 3
   },
   "file_extension": ".py",
   "mimetype": "text/x-python",
   "name": "python",
   "nbconvert_exporter": "python",
   "pygments_lexer": "ipython3",
   "version": "3.13.5"
  }
 },
 "nbformat": 4,
 "nbformat_minor": 5
}
