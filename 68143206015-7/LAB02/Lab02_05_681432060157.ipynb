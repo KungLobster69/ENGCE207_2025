{
 "cells": [
  {
   "cell_type": "code",
   "execution_count": 5,
   "id": "1b501a52",
   "metadata": {},
   "outputs": [
    {
     "name": "stdout",
     "output_type": "stream",
     "text": [
      "--- ส่วนที่ 5: การบันทึกข้อมูล\n",
      "\n",
      "5.1 บันทึกข้อมูลที่จัดการเรียบร้อยแล้วลงในไฟล์'vgsales_cleaned.csv'\n",
      "\n",
      "--- สิ้นสุดการปฎิบัติการ ---\n"
     ]
    }
   ],
   "source": [
    "import pandas as pd\n",
    "import numpy as np\n",
    "\n",
    "df = pd.read_csv(\"vgsales.csv\")\n",
    "\n",
    "# ส่วนที่ 5: การบันทึกข้อมูล(Writing Data)\n",
    "\n",
    "print(\"--- ส่วนที่ 5: การบันทึกข้อมูล\")\n",
    "\n",
    "#5.1 บันทึก Data Frame ที่จัดการแล้วลงไฟล์ CSV\n",
    "output_filename = 'vgsales_cleaned.csv'\n",
    "\n",
    "df.to_csv(output_filename, index=False)\n",
    "\n",
    "print(f\"\\n5.1 บันทึกข้อมูลที่จัดการเรียบร้อยแล้วลงในไฟล์'{output_filename}'\")\n",
    "\n",
    "print(\"\\n--- สิ้นสุดการปฎิบัติการ ---\")\n",
    "\n"
   ]
  }
 ],
 "metadata": {
  "kernelspec": {
   "display_name": "Python 3",
   "language": "python",
   "name": "python3"
  },
  "language_info": {
   "codemirror_mode": {
    "name": "ipython",
    "version": 3
   },
   "file_extension": ".py",
   "mimetype": "text/x-python",
   "name": "python",
   "nbconvert_exporter": "python",
   "pygments_lexer": "ipython3",
   "version": "3.13.5"
  }
 },
 "nbformat": 4,
 "nbformat_minor": 5
}
