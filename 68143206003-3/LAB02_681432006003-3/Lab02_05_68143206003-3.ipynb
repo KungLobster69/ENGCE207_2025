{
 "cells": [
  {
   "cell_type": "code",
   "execution_count": null,
   "id": "379b5d1e",
   "metadata": {},
   "outputs": [],
   "source": [
    "import pandas as pd\n",
    "import numpy as np\n",
    "\n",
    "df = pd.read_csv('vgsales.csv')\n",
    "\n",
    "print(\"--- ส่วนที่ 5: การบันทึกข้อมูล ---\")\n",
    "\n",
    "output_filename = 'vgsales_cleaned.csv'\n",
    "df.to_csv(output_filename, index=False)\n",
    "\n",
    "print(f\"\\n5.1 บันทึกข้อมูลที่จัดการเรียบร้อยแล้วลงในไฟล์ '{output_filename}'\")\n",
    "\n",
    "print(\"\\n--- สิ้นสุดการปฎิบัติการ ---\")"
   ]
  }
 ],
 "metadata": {
  "language_info": {
   "name": "python"
  }
 },
 "nbformat": 4,
 "nbformat_minor": 5
}
