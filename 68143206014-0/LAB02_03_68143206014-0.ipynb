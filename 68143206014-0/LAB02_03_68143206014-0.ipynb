{
 "cells": [
  {
   "cell_type": "code",
   "execution_count": 1,
   "id": "e73ea744",
   "metadata": {},
   "outputs": [
    {
     "name": "stdout",
     "output_type": "stream",
     "text": [
      "--- ส่วนที่ 3: การจัดการข้อมูลที่ขาดหาย ---\n",
      "\n",
      "3.1 จำนวนข้อมูลที่ขาดหายในแต่ละคอลัมน์ (ก่อนจัดการ):\n",
      "<bound method DataFrame.sum of         Rank   Name  Platform   Year  Genre  Publisher  NA_Sales  EU_Sales  \\\n",
      "0      False  False     False  False  False      False     False     False   \n",
      "1      False  False     False  False  False      False     False     False   \n",
      "2      False  False     False  False  False      False     False     False   \n",
      "3      False  False     False  False  False      False     False     False   \n",
      "4      False  False     False  False  False      False     False     False   \n",
      "...      ...    ...       ...    ...    ...        ...       ...       ...   \n",
      "16593  False  False     False  False  False      False     False     False   \n",
      "16594  False  False     False  False  False      False     False     False   \n",
      "16595  False  False     False  False  False      False     False     False   \n",
      "16596  False  False     False  False  False      False     False     False   \n",
      "16597  False  False     False  False  False      False     False     False   \n",
      "\n",
      "       JP_Sales  Other_Sales  Global_Sales  \n",
      "0         False        False         False  \n",
      "1         False        False         False  \n",
      "2         False        False         False  \n",
      "3         False        False         False  \n",
      "4         False        False         False  \n",
      "...         ...          ...           ...  \n",
      "16593     False        False         False  \n",
      "16594     False        False         False  \n",
      "16595     False        False         False  \n",
      "16596     False        False         False  \n",
      "16597     False        False         False  \n",
      "\n",
      "[16598 rows x 11 columns]>\n",
      "\n",
      "3.2 ลบแถวที่คอลัมน์ 'Year' มีคำว่าง:\n",
      "\n",
      "3.3 แทนที่ค่าว่างใน 'Publisher' ด้วย 'Unkown':\n",
      "\n",
      "3.4 จำนวนข้อมูลที่ขาดหายในแต่ละคอลัมน์ (หลังจัดการ):\n",
      "Rank            0\n",
      "Name            0\n",
      "Platform        0\n",
      "Year            0\n",
      "Genre           0\n",
      "Publisher       0\n",
      "NA_Sales        0\n",
      "EU_Sales        0\n",
      "JP_Sales        0\n",
      "Other_Sales     0\n",
      "Global_Sales    0\n",
      "dtype: int64\n",
      "จัดการข้อมูลที่ขาดหายเรียบร้อยแล้ว\n",
      "\n",
      "--- สิ้นสุดส่วนที่ 3 ---\n",
      "--------------------------------------------------\n",
      "\n"
     ]
    },
    {
     "name": "stderr",
     "output_type": "stream",
     "text": [
      "C:\\Users\\ASUS\\AppData\\Local\\Temp\\ipykernel_16596\\2921741398.py:18: FutureWarning: A value is trying to be set on a copy of a DataFrame or Series through chained assignment using an inplace method.\n",
      "The behavior will change in pandas 3.0. This inplace method will never work because the intermediate object on which we are setting values always behaves as a copy.\n",
      "\n",
      "For example, when doing 'df[col].method(value, inplace=True)', try using 'df.method({col: value}, inplace=True)' or df[col] = df[col].method(value) instead, to perform the operation inplace on the original object.\n",
      "\n",
      "\n",
      "  df['Publisher'].fillna('Unkown', inplace=True)\n"
     ]
    }
   ],
   "source": [
    "import pandas as pd\n",
    "import numpy as np\n",
    "\n",
    "df = pd.read_csv('vgsales.csv')\n",
    "\n",
    "print(\"--- ส่วนที่ 3: การจัดการข้อมูลที่ขาดหาย ---\")\n",
    "\n",
    "# 3.1 ตรวจสอบข้อมูลที่ขาดหาย\n",
    "print(\"\\n3.1 จำนวนข้อมูลที่ขาดหายในแต่ละคอลัมน์ (ก่อนจัดการ):\")\n",
    "print(df.isnull().sum)\n",
    "\n",
    "# 3.2 จัดการข้อมูล 'Year'\n",
    "print(\"\\n3.2 ลบแถวที่คอลัมน์ 'Year' มีคำว่าง:\")\n",
    "df.dropna(subset=['Year'], inplace=True)\n",
    "\n",
    "# 3.3 จัดการข้อมูล 'Publisher'\n",
    "print(\"\\n3.3 แทนที่ค่าว่างใน 'Publisher' ด้วย 'Unkown':\")\n",
    "df['Publisher'].fillna('Unkown', inplace=True)\n",
    "\n",
    "# 3.4 ตรวจสอบผลลัพธ์\n",
    "print(\"\\n3.4 จำนวนข้อมูลที่ขาดหายในแต่ละคอลัมน์ (หลังจัดการ):\")\n",
    "print(df.isnull().sum())\n",
    "print(\"จัดการข้อมูลที่ขาดหายเรียบร้อยแล้ว\")\n",
    "\n",
    "print(\"\\n--- สิ้นสุดส่วนที่ 3 ---\\n\" + \"-\"*50 + \"\\n\")"
   ]
  }
 ],
 "metadata": {
  "kernelspec": {
   "display_name": "Python 3",
   "language": "python",
   "name": "python3"
  },
  "language_info": {
   "codemirror_mode": {
    "name": "ipython",
    "version": 3
   },
   "file_extension": ".py",
   "mimetype": "text/x-python",
   "name": "python",
   "nbconvert_exporter": "python",
   "pygments_lexer": "ipython3",
   "version": "3.13.5"
  }
 },
 "nbformat": 4,
 "nbformat_minor": 5
}
