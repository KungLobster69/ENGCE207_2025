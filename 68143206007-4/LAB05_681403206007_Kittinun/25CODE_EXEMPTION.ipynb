{
 "cells": [
  {
   "cell_type": "code",
   "execution_count": 26,
   "id": "1c75f3dc",
   "metadata": {},
   "outputs": [
    {
     "name": "stdout",
     "output_type": "stream",
     "text": [
      "Requirement already satisfied: pandas in c:\\users\\gigabyte\\appdata\\local\\programs\\python\\python313\\lib\\site-packages (2.3.1)\n",
      "Requirement already satisfied: numpy in c:\\users\\gigabyte\\appdata\\local\\programs\\python\\python313\\lib\\site-packages (2.3.1)\n",
      "Requirement already satisfied: matplotlib in c:\\users\\gigabyte\\appdata\\local\\programs\\python\\python313\\lib\\site-packages (3.10.3)\n",
      "Requirement already satisfied: seaborn in c:\\users\\gigabyte\\appdata\\local\\programs\\python\\python313\\lib\\site-packages (0.13.2)\n",
      "Requirement already satisfied: scikit-learn in c:\\users\\gigabyte\\appdata\\local\\programs\\python\\python313\\lib\\site-packages (1.7.1)\n",
      "Requirement already satisfied: python-dateutil>=2.8.2 in c:\\users\\gigabyte\\appdata\\roaming\\python\\python313\\site-packages (from pandas) (2.9.0.post0)\n",
      "Requirement already satisfied: pytz>=2020.1 in c:\\users\\gigabyte\\appdata\\local\\programs\\python\\python313\\lib\\site-packages (from pandas) (2025.2)\n",
      "Requirement already satisfied: tzdata>=2022.7 in c:\\users\\gigabyte\\appdata\\local\\programs\\python\\python313\\lib\\site-packages (from pandas) (2025.2)\n",
      "Requirement already satisfied: contourpy>=1.0.1 in c:\\users\\gigabyte\\appdata\\local\\programs\\python\\python313\\lib\\site-packages (from matplotlib) (1.3.2)\n",
      "Requirement already satisfied: cycler>=0.10 in c:\\users\\gigabyte\\appdata\\local\\programs\\python\\python313\\lib\\site-packages (from matplotlib) (0.12.1)\n",
      "Requirement already satisfied: fonttools>=4.22.0 in c:\\users\\gigabyte\\appdata\\local\\programs\\python\\python313\\lib\\site-packages (from matplotlib) (4.58.5)\n",
      "Requirement already satisfied: kiwisolver>=1.3.1 in c:\\users\\gigabyte\\appdata\\local\\programs\\python\\python313\\lib\\site-packages (from matplotlib) (1.4.8)\n",
      "Requirement already satisfied: packaging>=20.0 in c:\\users\\gigabyte\\appdata\\roaming\\python\\python313\\site-packages (from matplotlib) (25.0)\n",
      "Requirement already satisfied: pillow>=8 in c:\\users\\gigabyte\\appdata\\local\\programs\\python\\python313\\lib\\site-packages (from matplotlib) (11.3.0)\n",
      "Requirement already satisfied: pyparsing>=2.3.1 in c:\\users\\gigabyte\\appdata\\local\\programs\\python\\python313\\lib\\site-packages (from matplotlib) (3.2.3)\n",
      "Requirement already satisfied: scipy>=1.8.0 in c:\\users\\gigabyte\\appdata\\local\\programs\\python\\python313\\lib\\site-packages (from scikit-learn) (1.16.0)\n",
      "Requirement already satisfied: joblib>=1.2.0 in c:\\users\\gigabyte\\appdata\\local\\programs\\python\\python313\\lib\\site-packages (from scikit-learn) (1.5.1)\n",
      "Requirement already satisfied: threadpoolctl>=3.1.0 in c:\\users\\gigabyte\\appdata\\local\\programs\\python\\python313\\lib\\site-packages (from scikit-learn) (3.6.0)\n",
      "Requirement already satisfied: six>=1.5 in c:\\users\\gigabyte\\appdata\\roaming\\python\\python313\\site-packages (from python-dateutil>=2.8.2->pandas) (1.17.0)\n",
      "Note: you may need to restart the kernel to use updated packages.\n"
     ]
    }
   ],
   "source": [
    "pip install pandas numpy matplotlib seaborn scikit-learn"
   ]
  },
  {
   "cell_type": "code",
   "execution_count": null,
   "id": "9ff72028",
   "metadata": {},
   "outputs": [],
   "source": [
    "# Import Libraries\n",
    "# Import สิ่งที่จำเป็นต้องใช้\n",
    "import pandas as pd\n",
    "import numpy as np\n",
    "import matplotlib.pyplot as plt\n",
    "import seaborn as sns\n",
    "\n",
    "# Import เครื่องมือจาก Scikit-learn\n",
    "from sklearn.model_selection import train_test_split\n",
    "from sklearn.preprocessing import StandardScaler\n",
    "from sklearn.neighbors import KNeighborsClassifier\n",
    "from sklearn.metrics import classification_report, confusion_matrix"
   ]
  },
  {
   "cell_type": "code",
   "execution_count": null,
   "id": "db984f84",
   "metadata": {},
   "outputs": [
    {
     "name": "stdout",
     "output_type": "stream",
     "text": [
      "   sepal length (cm)  sepal width (cm)  petal length (cm)  petal width (cm)  \\\n",
      "0                5.1               3.5                1.4               0.2   \n",
      "1                4.9               3.0                1.4               0.2   \n",
      "2                4.7               3.2                1.3               0.2   \n",
      "3                4.6               3.1                1.5               0.2   \n",
      "4                5.0               3.6                1.4               0.2   \n",
      "\n",
      "   target  \n",
      "0       0  \n",
      "1       0  \n",
      "2       0  \n",
      "3       0  \n",
      "4       0  \n"
     ]
    }
   ],
   "source": [
    "# ชุดข้อมูล Iris\n",
    "# Scikit-learn มีชุดข้อมูลนี้ให้ใช้ได้เลย\n",
    "from sklearn.datasets import load_iris\n",
    "\n",
    "# โหลดข้อมูล\n",
    "iris = load_iris()\n",
    "\n",
    "# สร้าง DataFrame เพื่อให้ดูง่ายด้วย Pandas\n",
    "# irisdata คือข้อมูล features\n",
    "# iris.feature_names คือชื่อคอลัมน์\n",
    "df = pd.DataFrame(iris.data, columns=iris.feature_names)\n",
    "\n",
    "# เพิมคอลัมน์ target (สายพันธุ์)\n",
    "df['target'] = iris.target\n",
    "\n",
    "# แสดง 5 แถวแรก\n",
    "print(df.head())"
   ]
  },
  {
   "cell_type": "code",
   "execution_count": null,
   "id": "ed7a2751",
   "metadata": {},
   "outputs": [
    {
     "name": "stdout",
     "output_type": "stream",
     "text": [
      "Train set shape: (105, 4)\n",
      "Test set shape: (45, 4)\n"
     ]
    }
   ],
   "source": [
    "# แบ่งข้อมูล\n",
    "# แยกข้อมูล Features (X) Target (Y)\n",
    "X = df.drop('target', axis=1)\n",
    "Y = df['target']\n",
    "\n",
    "# แบ่งข้อมูลเป็น Train 70% และ Rest 30%\n",
    "# random_state=42 เพื่อให้ผลการสุ่มเหมือนกันทุกครั้ง\n",
    "X_train, X_test, Y_train , Y_test = train_test_split(\n",
    "    X, Y, test_size=0.3, random_state=42\n",
    ")\n",
    "\n",
    "print('Train set shape:', X_train.shape)\n",
    "print('Test set shape:', X_test.shape)"
   ]
  },
  {
   "cell_type": "code",
   "execution_count": null,
   "id": "6b425758",
   "metadata": {},
   "outputs": [
    {
     "name": "stdout",
     "output_type": "stream",
     "text": [
      "       sepal length (cm)  sepal width (cm)  petal length (cm)  \\\n",
      "count          45.000000         45.000000          45.000000   \n",
      "mean            0.001914          0.382253          -0.218850   \n",
      "std             0.994843          1.100154           1.084002   \n",
      "min            -1.739794         -1.941723          -1.675566   \n",
      "25%            -0.775156         -0.502563          -1.383704   \n",
      "50%            -0.051677          0.217016           0.309096   \n",
      "75%             0.671802          0.936596           0.659330   \n",
      "max             2.480498          3.335194           1.768406   \n",
      "\n",
      "       petal width (cm)  \n",
      "count         45.000000  \n",
      "mean          -0.179093  \n",
      "std            1.091625  \n",
      "min           -1.540971  \n",
      "25%           -1.405685  \n",
      "50%            0.082460  \n",
      "75%            0.758890  \n",
      "max            1.435319  \n"
     ]
    }
   ],
   "source": [
    "# การเตรียมข้อมูล - Feature Scaling\n",
    "# 1. สร้าง object ของ StandardScaler\n",
    "scaler = StandardScaler()\n",
    "\n",
    "# 2. Fit scaler กับข้อมูล train เท่านั้น\n",
    "scaler.fit(X_train)\n",
    "\n",
    "# 3. Transform ทั้ง train และ test set\n",
    "X_train_scaled = scaler.transform(X_train)\n",
    "X_test_scaled = scaler.transform(X_test)\n",
    "\n",
    "# ข้อมูลที่ถูก scale แล้วจะเป็น NumPy array\n",
    "# เราสามารถแปลงกลับเป็น DataFrame เพื่อดูได้\n",
    "df_train_scaled = pd.DataFrame(X_test_scaled, columns=X.columns)\n",
    "print(df_train_scaled.describe())"
   ]
  },
  {
   "cell_type": "code",
   "execution_count": null,
   "id": "ac0602e0",
   "metadata": {},
   "outputs": [
    {
     "name": "stdout",
     "output_type": "stream",
     "text": [
      "โมเดล k-NM ถูกฝึกฝนเรียบร้อยแล้ว!\n"
     ]
    }
   ],
   "source": [
    "# สร้างและฝึกฝนโมเดล k-NN \n",
    "# สร้างโมเดล k-NM โดยกำหนด k=3\n",
    "# n_neighbors คือ k\n",
    "knn = KNeighborsClassifier(n_neighbors=3)\n",
    "\n",
    "# ฝึกฝนโมเดลด้วยข้อมูล train ที่ผ่านการ scale แล้ว\n",
    "knn.fit(X_train_scaled, Y_train)\n",
    "\n",
    "print(\"โมเดล k-NM ถูกฝึกฝนเรียบร้อยแล้ว!\")"
   ]
  },
  {
   "cell_type": "code",
   "execution_count": null,
   "id": "88c09bc9",
   "metadata": {},
   "outputs": [
    {
     "name": "stdout",
     "output_type": "stream",
     "text": [
      "Predictions: [1 0 2 1 1 0 1 2 1 1 2 0 0 0 0 1 2 1 1 2 0 2 0 2 2 2 2 2 0 0 0 0 1 0 0 2 1\n",
      " 0 0 0 2 1 1 0 0]\n"
     ]
    }
   ],
   "source": [
    "# โมเดลของเราดีแค่ไหน\n",
    "# ทำนายผลกับข้อมูล Test\n",
    "predictions = knn.predict(X_test_scaled)\n",
    "print(\"Predictions:\", predictions)"
   ]
  },
  {
   "cell_type": "code",
   "execution_count": null,
   "id": "dee8d03e",
   "metadata": {},
   "outputs": [
    {
     "name": "stdout",
     "output_type": "stream",
     "text": [
      "              precision    recall  f1-score   support\n",
      "\n",
      "      setosa       1.00      1.00      1.00        19\n",
      "  versicolor       1.00      1.00      1.00        13\n",
      "   virginica       1.00      1.00      1.00        13\n",
      "\n",
      "    accuracy                           1.00        45\n",
      "   macro avg       1.00      1.00      1.00        45\n",
      "weighted avg       1.00      1.00      1.00        45\n",
      "\n"
     ]
    }
   ],
   "source": [
    "\n",
    "from sklearn.metrics import classification_report\n",
    "\n",
    "print(classification_report(Y_test, predictions,target_names=iris.target_names))"
   ]
  }
 ],
 "metadata": {
  "kernelspec": {
   "display_name": "Python 3",
   "language": "python",
   "name": "python3"
  },
  "language_info": {
   "codemirror_mode": {
    "name": "ipython",
    "version": 3
   },
   "file_extension": ".py",
   "mimetype": "text/x-python",
   "name": "python",
   "nbconvert_exporter": "python",
   "pygments_lexer": "ipython3",
   "version": "3.13.5"
  }
 },
 "nbformat": 4,
 "nbformat_minor": 5
}
