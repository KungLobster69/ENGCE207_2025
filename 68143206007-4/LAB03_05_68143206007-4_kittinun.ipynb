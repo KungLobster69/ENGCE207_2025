{
 "cells": [
  {
   "cell_type": "code",
   "execution_count": 3,
   "id": "c187a762",
   "metadata": {},
   "outputs": [
    {
     "name": "stdout",
     "output_type": "stream",
     "text": [
      "\n",
      "--- ส่วนที่ 5: การบันทึกข้อมูล ---\n",
      "\n",
      "5.1 บันทึกข้อมูลที่จัดการเรียบร้อยแล้วลงในไฟล์ 'vgsales_cleaned.csv'\n",
      "\n",
      "--- จบส่วนที่ 5 ---\n",
      "==================================================\n",
      "\n"
     ]
    }
   ],
   "source": [
    "# ---\n",
    "# ส่วนที่ 5: การบันทึกข้อมูล\n",
    "# ---\n",
    "import pandas as pd\n",
    "import numpy as np\n",
    "df = pd.read_csv('vgsales.csv')\n",
    "\n",
    "print(\"\\n--- ส่วนที่ 5: การบันทึกข้อมูล ---\")\n",
    "\n",
    "# 5.1 บันทึก DataFrame ที่จัดการแล้วลงไฟล์ CSV\n",
    "output_filename = 'vgsales_cleaned.csv'\n",
    "df.to_csv(output_filename, index=False)\n",
    "# กำหนด index=False เพื่อไม่ให้บันทึกดัชนีแถวลงในไฟล์\n",
    "\n",
    "print(f\"\\n5.1 บันทึกข้อมูลที่จัดการเรียบร้อยแล้วลงในไฟล์ '{output_filename}'\")\n",
    "\n",
    "print(\"\\n--- จบส่วนที่ 5 ---\\n\" + \"=\"*50 + \"\\n\")"
   ]
  },
  {
   "cell_type": "code",
   "execution_count": 5,
   "id": "c825f3b4",
   "metadata": {},
   "outputs": [
    {
     "name": "stdout",
     "output_type": "stream",
     "text": [
      "pip 25.1.1 from c:\\Users\\GIGABYTE\\AppData\\Local\\Programs\\Python\\Python313\\Lib\\site-packages\\pip (python 3.13)\n",
      "\n",
      "Note: you may need to restart the kernel to use updated packages.\n"
     ]
    }
   ],
   "source": [
    "pip --version"
   ]
  }
 ],
 "metadata": {
  "kernelspec": {
   "display_name": "Python 3",
   "language": "python",
   "name": "python3"
  },
  "language_info": {
   "codemirror_mode": {
    "name": "ipython",
    "version": 3
   },
   "file_extension": ".py",
   "mimetype": "text/x-python",
   "name": "python",
   "nbconvert_exporter": "python",
   "pygments_lexer": "ipython3",
   "version": "3.13.5"
  }
 },
 "nbformat": 4,
 "nbformat_minor": 5
}
