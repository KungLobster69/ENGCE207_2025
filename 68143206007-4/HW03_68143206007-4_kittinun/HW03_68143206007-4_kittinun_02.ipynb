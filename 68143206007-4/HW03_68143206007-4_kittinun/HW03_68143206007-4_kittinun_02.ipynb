{
 "cells": [
  {
   "cell_type": "code",
   "execution_count": null,
   "id": "b46bad7e",
   "metadata": {},
   "outputs": [
    {
     "data": {
      "text/plain": [
       "StudentID       0\n",
       "FirstName       0\n",
       "LastName        0\n",
       "Major           0\n",
       "MidtermScore    0\n",
       "FinalScore      0\n",
       "ProjectScore    0\n",
       "Attendance      0\n",
       "dtype: int64"
      ]
     },
     "execution_count": 8,
     "metadata": {},
     "output_type": "execute_result"
    }
   ],
   "source": [
    "print(\"2. การจัดการข้อมูลที่ขาดหาย\")\n",
    "# เติมค่าขาดหายใน MidtermScore และ FinalScore ด้วยค่ามัธยฐาน\n",
    "import pandas as pd\n",
    "import numpy as np\n",
    "df = pd.read_csv('student.csv')\n",
    "print(\"2. การจัดการข้อมูลที่ขาดหาย (Missing Data)\")\n",
    "df['MidtermScore'] = df['MidtermScore'].fillna(df['MidtermScore'].median())\n",
    "df['FinalScore'] = df['FinalScore'].fillna(df['FinalScore'].median())\n",
    "\n",
    "# ตรวจสอบว่ามีข้อมูลขาดหายอีกหรือไม่\n",
    "df.isnull().sum()\n"
   ]
  },
  {
   "cell_type": "code",
   "execution_count": null,
   "id": "0096ffb4",
   "metadata": {},
   "outputs": [],
   "source": [
    "df.info()"
   ]
  }
 ],
 "metadata": {
  "kernelspec": {
   "display_name": "Python 3",
   "language": "python",
   "name": "python3"
  },
  "language_info": {
   "codemirror_mode": {
    "name": "ipython",
    "version": 3
   },
   "file_extension": ".py",
   "mimetype": "text/x-python",
   "name": "python",
   "nbconvert_exporter": "python",
   "pygments_lexer": "ipython3",
   "version": "3.13.5"
  }
 },
 "nbformat": 4,
 "nbformat_minor": 5
}
