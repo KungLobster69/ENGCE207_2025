{
 "cells": [
  {
   "cell_type": "code",
   "execution_count": 5,
   "id": "b46bad7e",
   "metadata": {},
   "outputs": [
    {
     "name": "stdout",
     "output_type": "stream",
     "text": [
      "--- การบ้านข้อที่ 6: การคํานวณและตัดเกรด ---\n",
      "ผลการตัดเกรดของนักศึกษา ตัวอย่าง:\n",
      "         FullName  TotalScore FinalGrade\n",
      "0  Somchai Jaidee       220.0          A\n",
      "1   Somsri Rakdee       124.0          D\n",
      "2      Mana Petch       175.0          C\n",
      "3    Chujai Klaew       237.0          A\n",
      "4     Piti Yindee       215.0          A\n",
      "--------------------------------------------------\n"
     ]
    }
   ],
   "source": [
    "import pandas as pd\n",
    "import numpy as np\n",
    "\n",
    "# อ่านข้อมูล\n",
    "df = pd.read_csv('student.csv')\n",
    "\n",
    "print(\"--- การบ้านข้อที่ 6: การคํานวณและตัดเกรด ---\")\n",
    "\n",
    "# สร้างคอลัมน์ FullName\n",
    "df['FullName'] = df['FirstName'].str.strip() + ' ' + df['LastName'].str.strip()\n",
    "\n",
    "# แปลงคะแนนให้เป็นตัวเลขและแทน NaN ด้วย 0\n",
    "df['MidtermScore'] = pd.to_numeric(df['MidtermScore'], errors='coerce').fillna(0)\n",
    "df['FinalScore'] = pd.to_numeric(df['FinalScore'], errors='coerce').fillna(0)\n",
    "df['ProjectScore'] = pd.to_numeric(df['ProjectScore'], errors='coerce').fillna(0)\n",
    "\n",
    "# คำนวณคะแนนรวม\n",
    "df['TotalScore'] = df['MidtermScore'] + df['FinalScore'] + df['ProjectScore']\n",
    "\n",
    "# ฟังก์ชันคำนวณเกรด\n",
    "def calculate_grade(score):\n",
    "    if score >= 210:\n",
    "        return 'A'\n",
    "    elif score >= 200:\n",
    "        return 'B'\n",
    "    elif score >= 170:\n",
    "        return 'C'\n",
    "    elif score >= 50:\n",
    "        return 'D'\n",
    "    else:\n",
    "        return 'F'\n",
    "\n",
    "# สร้างคอลัมน์ FinalGrade\n",
    "df['FinalGrade'] = df['TotalScore'].apply(calculate_grade)\n",
    "\n",
    "# แสดงเฉพาะ FullName, TotalScore, FinalGrade เหมือนในภาพ\n",
    "print(\"ผลการตัดเกรดของนักศึกษา ตัวอย่าง:\")\n",
    "print(df[['FullName', 'TotalScore', 'FinalGrade']].head())\n",
    "print(\"--------------------------------------------------\")\n"
   ]
  },
  {
   "cell_type": "code",
   "execution_count": null,
   "id": "0096ffb4",
   "metadata": {},
   "outputs": [],
   "source": [
    "df.info()"
   ]
  }
 ],
 "metadata": {
  "kernelspec": {
   "display_name": "Python 3",
   "language": "python",
   "name": "python3"
  },
  "language_info": {
   "codemirror_mode": {
    "name": "ipython",
    "version": 3
   },
   "file_extension": ".py",
   "mimetype": "text/x-python",
   "name": "python",
   "nbconvert_exporter": "python",
   "pygments_lexer": "ipython3",
   "version": "3.13.5"
  }
 },
 "nbformat": 4,
 "nbformat_minor": 5
}
