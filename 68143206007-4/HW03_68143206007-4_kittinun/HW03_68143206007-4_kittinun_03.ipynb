{
 "cells": [
  {
   "cell_type": "code",
   "execution_count": null,
   "id": "b46bad7e",
   "metadata": {},
   "outputs": [
    {
     "name": "stdout",
     "output_type": "stream",
     "text": [
      "StudentID         int64\n",
      "FirstName        object\n",
      "LastName         object\n",
      "Major            object\n",
      "MidtermScore    float64\n",
      "FinalScore      float64\n",
      "ProjectScore      int64\n",
      "Attendance        int64\n",
      "dtype: object\n",
      "StudentID         int64\n",
      "FirstName        object\n",
      "LastName         object\n",
      "Major            object\n",
      "MidtermScore    float64\n",
      "FinalScore      float64\n",
      "ProjectScore      int64\n",
      "Attendance        int64\n",
      "dtype: object\n"
     ]
    }
   ],
   "source": [
    "\n",
    "import pandas as pd\n",
    "import numpy as np\n",
    "df = pd.read_csv('student.csv')\n",
    "print(\"3. การแปลงชนิดข้อมูล (Data Type Conversion)\")\n",
    "# ตรวจสอบชนิดข้อมูลของทุกคอลัมน์\n",
    "print(df.dtypes)\n",
    "\n",
    "# ถ้า ProjectScore ไม่ใช่ชนิด int ให้แปลง\n",
    "if df['ProjectScore'].dtype != 'int64':\n",
    "    df['ProjectScore'] = df['ProjectScore'].astype(int)\n",
    "\n",
    "# ตรวจสอบอีกครั้งเพื่อยืนยัน\n",
    "print(df.dtypes)\n"
   ]
  },
  {
   "cell_type": "code",
   "execution_count": null,
   "id": "0096ffb4",
   "metadata": {},
   "outputs": [],
   "source": [
    "df.info()"
   ]
  }
 ],
 "metadata": {
  "kernelspec": {
   "display_name": "Python 3",
   "language": "python",
   "name": "python3"
  },
  "language_info": {
   "codemirror_mode": {
    "name": "ipython",
    "version": 3
   },
   "file_extension": ".py",
   "mimetype": "text/x-python",
   "name": "python",
   "nbconvert_exporter": "python",
   "pygments_lexer": "ipython3",
   "version": "3.13.5"
  }
 },
 "nbformat": 4,
 "nbformat_minor": 5
}
