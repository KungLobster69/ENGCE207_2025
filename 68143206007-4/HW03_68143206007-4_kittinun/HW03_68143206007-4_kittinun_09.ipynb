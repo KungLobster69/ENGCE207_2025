{
 "cells": [
  {
   "cell_type": "code",
   "execution_count": 2,
   "id": "0096ffb4",
   "metadata": {},
   "outputs": [
    {
     "name": "stdout",
     "output_type": "stream",
     "text": [
      "🔹 คะแนนรวมเฉลี่ย และคะแนนสอบปลายภาคเฉลี่ยของแต่ละสาขา:\n",
      "                    Major  AverageTotalScore  AverageFinalScore\n",
      "0       Civil Engineering             61.200              73.75\n",
      "1    Computer Engineering             74.025              93.00\n",
      "2  Electrical Engineering             66.200              84.00\n",
      "3  Industrial Engineering             49.650              65.00\n",
      "\n",
      " สาขาที่มีคะแนนรวมเฉลี่ยสูงสุดคือ: Computer Engineering (74.03 คะแนน)\n"
     ]
    }
   ],
   "source": [
    "import pandas as pd\n",
    "\n",
    "# โหลดข้อมูล\n",
    "df = pd.read_csv('student.csv')\n",
    "\n",
    "# รวมชื่อเต็ม (ถ้ายังไม่ได้ทำ)\n",
    "df['FullName'] = df['FirstName'].str.strip() + ' ' + df['LastName'].str.strip()\n",
    "\n",
    "#  คำนวณคะแนนรวม TotalScore (ถ้ายังไม่ได้ทำ)\n",
    "df['TotalScore'] = (0.3 * df['MidtermScore']) + (0.3 * df['FinalScore']) + (0.4 * df['ProjectScore'])\n",
    "\n",
    "#  จัดกลุ่มตามสาขาวิชา และคำนวณค่าเฉลี่ย\n",
    "grouped = df.groupby('Major').agg({\n",
    "    'TotalScore': 'mean',\n",
    "    'FinalScore': 'mean'\n",
    "}).reset_index()\n",
    "\n",
    "# เปลี่ยนชื่อคอลัมน์ให้อ่านง่าย\n",
    "grouped.columns = ['Major', 'AverageTotalScore', 'AverageFinalScore']\n",
    "\n",
    "# แสดงผลลัพธ์ทั้งหมด\n",
    "print(\"🔹 คะแนนรวมเฉลี่ย และคะแนนสอบปลายภาคเฉลี่ยของแต่ละสาขา:\")\n",
    "print(grouped)\n",
    "\n",
    "#  หาสาขาที่มีคะแนนรวมเฉลี่ยสูงสุด\n",
    "top_major = grouped.sort_values(by='AverageTotalScore', ascending=False).iloc[0]\n",
    "print(f\"\\n สาขาที่มีคะแนนรวมเฉลี่ยสูงสุดคือ: {top_major['Major']} ({top_major['AverageTotalScore']:.2f} คะแนน)\")\n"
   ]
  }
 ],
 "metadata": {
  "kernelspec": {
   "display_name": "Python 3",
   "language": "python",
   "name": "python3"
  },
  "language_info": {
   "codemirror_mode": {
    "name": "ipython",
    "version": 3
   },
   "file_extension": ".py",
   "mimetype": "text/x-python",
   "name": "python",
   "nbconvert_exporter": "python",
   "pygments_lexer": "ipython3",
   "version": "3.13.5"
  }
 },
 "nbformat": 4,
 "nbformat_minor": 5
}
