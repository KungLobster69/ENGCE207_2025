{
 "cells": [
  {
   "cell_type": "code",
   "execution_count": 22,
   "id": "b46bad7e",
   "metadata": {},
   "outputs": [
    {
     "name": "stdout",
     "output_type": "stream",
     "text": [
      "***********************************************************************************************************\n",
      "                                              แสดงในส่วนของตาราง\n",
      "***********************************************************************************************************\n",
      "\"\"\"StudentID FirstName  LastName                  Major  MidtermScore  FinalScore  ProjectScore  Attendance\n",
      "     6401001   Somchai    Jaidee   Computer Engineering          85.0        90.0          45.0        95.0\n",
      "     6401002    Somsri    Rakdee   Computer Engineering          76.0         NaN          48.0        88.0\n",
      "     6401003      Mana     Petch      Civil Engineering          65.0        72.0          38.0        92.0\n",
      "     6401004    Chujai     Klaew Electrical Engineering          92.0        95.0          50.0        98.0\n",
      "     6401005      Piti    Yindee   Computer Engineering          88.0        85.0          42.0        85.0\n",
      "     6401006     Malee    Boonma      Civil Engineering           NaN        65.0          35.0        75.0\n",
      "     6401007     Weera   Chokdee Electrical Engineering          78.0        82.0          40.0        90.0\n",
      "     6401008     Jinda    Suksai   Computer Engineering          95.0        98.0          49.0        99.0\n",
      "     6401009      Arun Rungrueng Industrial Engineering          55.0        60.0          30.0        68.0\n",
      "     6401010     Naree   Ngamdee      Civil Engineering          72.0        78.0          41.0        94.0\n",
      "     6401011     David     Smith   Computer Engineering          98.0       100.0          50.0       100.0\n",
      "     6401012     Emily     Jones Electrical Engineering          68.0        75.0          39.0        80.0\n",
      "     6401013   Michael     Brown      Civil Engineering          81.0        80.0          44.0        91.0\n",
      "     6401014   Jessica     Davis   Computer Engineering           NaN        92.0          47.0        93.0\n",
      "     6401015     Chris    Wilson Industrial Engineering          62.0        70.0          33.0        65.0\n",
      "         \"\"\"      None      None                   None           NaN         NaN           NaN         NaN\n",
      "***********************************************************************************************************\n",
      "                                            จบการทำงานในส่วนของตาราง\n",
      "***********************************************************************************************************\n"
     ]
    }
   ],
   "source": [
    "print(\"***********************************************************************************************************\")\n",
    "print(\"                                              แสดงในส่วนของตาราง\")\n",
    "print(\"***********************************************************************************************************\")\n",
    "\n",
    "import pandas as pd\n",
    "# โหลดไฟล์ student.csv แบบแก้รูปแบบผิด\n",
    "with open('student.csv', 'r', encoding='utf-8') as f:\n",
    "    lines = f.read().splitlines()\n",
    "\n",
    "# แยกหัวตารางและข้อมูล \n",
    "header = lines[0].split(',')\n",
    "data = [line.split(',') for line in lines[1:] if line.strip()]\n",
    "\n",
    "# สร้าง DataFrame \n",
    "df = pd.DataFrame(data, columns=header)\n",
    "\n",
    "# แปลงคอลัมน์ตัวเลขให้เป็น float\n",
    "for col in [\"MidtermScore\", \"FinalScore\", \"ProjectScore\", \"Attendance\"]:\n",
    "    df[col] = pd.to_numeric(df[col], errors='coerce')\n",
    "\n",
    "# แสดงตารางข้อมูลเต็ม\n",
    "print(df.to_string(index=False))\n",
    "\n",
    "# จบการทำงานในส่วนของการแสดงตาราง\n",
    "print(\"***********************************************************************************************************\")\n",
    "print(\"                                            จบการทำงานในส่วนของตาราง\")\n",
    "print(\"***********************************************************************************************************\")"
   ]
  },
  {
   "cell_type": "code",
   "execution_count": null,
   "id": "0096ffb4",
   "metadata": {},
   "outputs": [],
   "source": [
    "df.info()"
   ]
  }
 ],
 "metadata": {
  "kernelspec": {
   "display_name": "Python 3",
   "language": "python",
   "name": "python3"
  },
  "language_info": {
   "codemirror_mode": {
    "name": "ipython",
    "version": 3
   },
   "file_extension": ".py",
   "mimetype": "text/x-python",
   "name": "python",
   "nbconvert_exporter": "python",
   "pygments_lexer": "ipython3",
   "version": "3.13.5"
  }
 },
 "nbformat": 4,
 "nbformat_minor": 5
}
