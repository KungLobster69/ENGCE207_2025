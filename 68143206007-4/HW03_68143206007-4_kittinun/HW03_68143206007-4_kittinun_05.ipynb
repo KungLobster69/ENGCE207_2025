{
 "cells": [
  {
   "cell_type": "code",
   "execution_count": 14,
   "id": "b46bad7e",
   "metadata": {},
   "outputs": [
    {
     "name": "stdout",
     "output_type": "stream",
     "text": [
      "--- การบ้านข้อที่ 5: การคำนวณคะแนนรวม ---\n",
      "สร้างคอลัมน์ TotalScore เรียบร้อยแล้ว, ตัวอย่าง:\n",
      "         FullName  MidtermScore  FinalScore  ProjectScore  TotalScore\n",
      "0  Somchai Jaidee          85.0        90.0            45       220.0\n",
      "1   Somsri Rakdee          76.0         0.0            48       124.0\n",
      "2      Mana Petch          65.0        72.0            38       175.0\n",
      "3    Chujai Klaew          92.0        95.0            50       237.0\n",
      "4     Piti Yindee          88.0        85.0            42       215.0\n",
      "--------------------------------------------------\n"
     ]
    }
   ],
   "source": [
    "import pandas as pd\n",
    "\n",
    "# โหลดข้อมูลจากไฟล์ student.csv (อยู่ในโฟลเดอร์เดียวกับไฟล์นี้)\n",
    "df = pd.read_csv('student.csv')\n",
    "\n",
    "# แสดงหัวข้อแบบในภาพ\n",
    "print(\"--- การบ้านข้อที่ 5: การคำนวณคะแนนรวม ---\")\n",
    "print(\"สร้างคอลัมน์ TotalScore เรียบร้อยแล้ว, ตัวอย่าง:\")\n",
    "\n",
    "# รวมชื่อเต็ม\n",
    "df['FullName'] = df['FirstName'].str.strip() + ' ' + df['LastName'].str.strip()\n",
    "\n",
    "# แปลงคะแนนเป็นตัวเลข และแทนค่า NaN ด้วย 0\n",
    "df['MidtermScore'] = pd.to_numeric(df['MidtermScore'], errors='coerce').fillna(0)\n",
    "df['FinalScore'] = pd.to_numeric(df['FinalScore'], errors='coerce').fillna(0)\n",
    "df['ProjectScore'] = pd.to_numeric(df['ProjectScore'], errors='coerce').fillna(0)\n",
    "\n",
    "# คำนวณคะแนนรวม\n",
    "df['TotalScore'] = df['MidtermScore'] + df['FinalScore'] + df['ProjectScore']\n",
    "\n",
    "# แสดงผลลัพธ์เฉพาะคอลัมน์ที่ต้องการ (5 แถวแรก)\n",
    "print(df[['FullName', 'MidtermScore', 'FinalScore', 'ProjectScore', 'TotalScore']].head())\n",
    "\n",
    "# ปิดท้ายด้วยเส้นเหมือนภาพ\n",
    "print(\"--------------------------------------------------\")\n"
   ]
  },
  {
   "cell_type": "code",
   "execution_count": null,
   "id": "0096ffb4",
   "metadata": {},
   "outputs": [],
   "source": [
    "df.info()"
   ]
  }
 ],
 "metadata": {
  "kernelspec": {
   "display_name": "Python 3",
   "language": "python",
   "name": "python3"
  },
  "language_info": {
   "codemirror_mode": {
    "name": "ipython",
    "version": 3
   },
   "file_extension": ".py",
   "mimetype": "text/x-python",
   "name": "python",
   "nbconvert_exporter": "python",
   "pygments_lexer": "ipython3",
   "version": "3.13.5"
  }
 },
 "nbformat": 4,
 "nbformat_minor": 5
}
