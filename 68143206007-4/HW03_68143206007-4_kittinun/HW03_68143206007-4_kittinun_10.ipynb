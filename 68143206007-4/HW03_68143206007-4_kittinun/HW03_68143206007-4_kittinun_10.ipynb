{
 "cells": [
  {
   "cell_type": "code",
   "execution_count": null,
   "id": "0096ffb4",
   "metadata": {},
   "outputs": [
    {
     "name": "stdout",
     "output_type": "stream",
     "text": [
      "--- ภาระงานข้อที่ 10: การเตรียมและการบันทึกรายงานสรุป ---\n",
      "\n",
      "ตัวอย่างข้อมูลใน report_df:\n",
      "\n",
      " StudentID       FullName                  Major  TotalScore FinalGrade\n",
      "   6401001 Somchai Jaidee   Computer Engineering       220.0          B\n",
      "   6401003     Mana Petch      Civil Engineering       175.0          D\n",
      "   6401004   Chujai Klaew Electrical Engineering       237.0          B\n",
      "   6401005    Piti Yindee   Computer Engineering       215.0          B\n",
      "   6401007  Weera Chokdee Electrical Engineering       200.0          C\n",
      "\n",
      " บันทึกไฟล์ student_grade_report.csv เรียบร้อยแล้ว\n"
     ]
    }
   ],
   "source": [
    "import pandas as pd\n",
    "\n",
    "# โหลดข้อมูล\n",
    "df = pd.read_csv('student.csv')\n",
    "\n",
    "# รวมชื่อเต็ม\n",
    "df['FullName'] = df['FirstName'].str.strip() + ' ' + df['LastName'].str.strip()\n",
    "\n",
    "# ลบแถวที่ข้อมูลคะแนนไม่ครบ\n",
    "df = df.dropna(subset=['MidtermScore', 'FinalScore', 'ProjectScore'])\n",
    "\n",
    "#  คำนวณคะแนนรวม \n",
    "df['TotalScore'] = df['MidtermScore'] + df['FinalScore'] + df['ProjectScore']\n",
    "\n",
    "#  ฟังก์ชันแปลงคะแนนรวมเป็นเกรด\n",
    "def score_to_grade(score):\n",
    "    if score >= 240:\n",
    "        return 'A'\n",
    "    elif score >= 210:\n",
    "        return 'B'\n",
    "    elif score >= 180:\n",
    "        return 'C'\n",
    "    elif score >= 150:\n",
    "        return 'D'\n",
    "    else:\n",
    "        return 'F'\n",
    "\n",
    "df['FinalGrade'] = df['TotalScore'].apply(score_to_grade)\n",
    "\n",
    "report_df = df[['StudentID', 'FullName', 'Major', 'TotalScore', 'FinalGrade']]\n",
    "\n",
    "#  แสดงตัวอย่าง\n",
    "print(\"--- ภาระงานข้อที่ 10: การเตรียมและการบันทึกรายงานสรุป ---\\n\")\n",
    "print(\"ตัวอย่างข้อมูลใน report_df:\\n\")\n",
    "print(report_df.head().to_string(index=False))\n",
    "\n",
    "#  บันทึกไฟล์ CSV \n",
    "report_df.to_csv('student_grade_report.csv', index=False)\n"
   ]
  }
 ],
 "metadata": {
  "kernelspec": {
   "display_name": "Python 3",
   "language": "python",
   "name": "python3"
  },
  "language_info": {
   "codemirror_mode": {
    "name": "ipython",
    "version": 3
   },
   "file_extension": ".py",
   "mimetype": "text/x-python",
   "name": "python",
   "nbconvert_exporter": "python",
   "pygments_lexer": "ipython3",
   "version": "3.13.5"
  }
 },
 "nbformat": 4,
 "nbformat_minor": 5
}
