#====================================================================================================================================
# ส่วนที่ 4: การจัดการข้อมูลอื่นๆ และการสร้างคอลัมน์ใหม่
#====================================================================================================================================
print("--- ส่วนที่ 4: การจัดการข้อมูลอื่นๆ และการสร้างคอลัมน์ใหม่---")


#4.1 การเรียงลำดับข้อมูล
print("\n4.1 เรียงลำดับข้อมูลตาม Global_Sales (มากไปน้อย):")
df_sorted = df.sort_values(by='Global_Sales', ascending=False)
print(df_sorted.head())

#4.2 การสร้างคอลัมน์ใหม่ (Feature Engineering)
print("\n4.2.1 สร้างคอลัมน์ 'Sales_Outside_JP':")
df['Sales_Outside_JP'] = df['NA_Sales'] + df['EU_Sales'] + df['Other_Sales']
print(df[['Name', 'NA_Sales', 'EU_Sales', 'Other_Sales', 'Sales_Outside_JP']].head())

# First, convert 'Year' coloumn to integer type as it was float
df['Year'] = df['Year'].astype(int)

# Define the Function to find the decade
def find_decade(year):
    if 1980 <= year < 1990:
        return '1980s'
    elif 1990 <= year < 2000:
        return '1990s'
    elif 2000 <= year < 2010:
        return '2000s'
    else:
        return '2010s_and_later'
    
# Apply the function to the 'Year' column
df['Release_Decade'] = df['Year'].apply(find_decade)
print(df[['Name', 'Year', 'Release_Decade']].head())
