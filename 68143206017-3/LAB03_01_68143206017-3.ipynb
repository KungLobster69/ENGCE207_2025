import pandas as pd
import numpy as np

df = pd.read_csv('vgsales.csv')

print(df.head())
print(f"DataFrame มี{df.shape[0]}แถว และ {df.shape[1]} คอลัมณ์")
df.info()
print(df.describe())
"print(\"จากผลลัพธ์ของ .info() คอลัมน์ Year และ Publisher มีข้อมูลขาดหาย (Missing Values) จำนวน 329 ตัว\")"
