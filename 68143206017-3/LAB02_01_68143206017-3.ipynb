import pandas as pd
import numpy as np

df = pd.read_csv('vgsales.csv')

print(df.head())
print(f"DataFrame มี{df.shape[0]}แถว และ {df.shape[1]} คอลัมณ์")
df.info()
print(df.describe())

จากผลลัพธ์ของ .info() คอลัมน์ (Year) และ (Publisher) มีข้อมูลขาดหาย (Missing Values) ทั้งหมด 329 ตัว
แบ่งออกเป็น ข้อมูล Year 271 ตัว และ Publisher 58 ตัว
