import pandas as pd
import numpy as np

df = pd.read_csv('student_data.csv')
#งานข้อที่ 1
print ("--- ภาระงานข้อที่ 1: การโหลดและตรวจสอบข้อมูลเบื้องต้น ---")
print ("\n")
print ("แสดงข้อมูล 10 แถวแรก:")
print(df.head(10))
print(df.info())
print(df.describe())
print ("\n")
print ("ตรวจสอบชนิดข้อมูลและค่าว่างด้วย .info():")
print ("\n")
print ("คำตอบคำถามข้อ 1:คอลัมน์ที่มีข้อมูลขาดหายคือ MidtermScore (2 ค่า) และ FinalScore (1 ค่า)")
print ("ชนิดข้อมูลเป็น float64 เนื่องจาก Pandas จะแปลงคอลัมน์ที่มีค่าว่างเป็น float โดยอัตโนมัติ")
print ("\n")
print ("--------------------------------------------------")
print ("\n")
#งานข้อที่ 2
print ("--- ภาระงานข้อที่ 2: การจัดการข้อมูลที่ขาดหาย ---")
df.fillna({'MidtermScore': df['MidtermScore'].median(),}, inplace=True)
df.fillna({'FinalScore': df['FinalScore'].median(),}, inplace=True)
print("เติมค่าที่ขาดหายด้วย median เรียบร้อยแล้ว")
print("ตรวจสอบข้อมูลขาดหายอีกครั้ง:")
print(df.isnull().sum())
print ("\n")
#งานข้อที่ 3
print ("--- ภาระงานข้อที่ 3: การแปลงชนิดข้อมูล ---")
print ("ชนิดข้อมูลของ ProjectScore ก่อนแปลง: float64")
print ("ชนิดข้อมูลของ ProjectScore หลังแปลง: int64")
print ("แปลงชนิดข้อมูลเรียบร้อยแล้ว")
df['ProjectScore'] = df['ProjectScore'].astype(int)
df.dtypes
print ("\n")
print ("--------------------------------------------------")
print ("\n")
#งานข้อที่ 4
print ("--- ภาระงานข้อที่ 4: การสร้างคอลัมน์ FullName ---")
print ("สร้างคอลัมน์ FullName เรียบร้อยแล้ว, ดูตัวอย่าง:")
df['FullName'] = df['FirstName']+' '+df['LastName'] 
print(df.head(10))
print ("\n")
print ("--------------------------------------------------")
print ("\n")
#งานข้อที่ 5
print ("--- ภาระงานข้อที่ 5: การคำนวณคะแนนรวม ---")
print ("สร้างคอลัมน์ TotalScore เรียบร้อยแล้ว, ดูตัวอย่าง:")
df['TotalScore'] = (df['MidtermScore']+df['FinalScore']+df['ProjectScore'])/2.5
print(df.head(10))

print ("\n")
print ("--------------------------------------------------")
print ("\n")
print ("--- ภาระงานข้อที่ 6: การคำนวณและตัดเกรด ---")
# ข้อ6 ตัดเกรด
def calculate_grade(total_score):
    if total_score >= 80:
        return 'A'
    elif total_score >= 75:
        return 'B+'
    elif total_score >= 70:
        return 'B'
    elif total_score >= 65:
        return 'C+'
    elif total_score >= 60:
        return 'C'
    elif total_score >= 55:
        return 'D+'
    elif total_score >= 50:
        return 'D'
    else:
        return 'F'
df['FinalGrade'] = df['TotalScore'].apply(calculate_grade)
print (df[['FullName','Major','FinalGrade']])

print ("\n")
print ("--------------------------------------------------")
print ("\n")
print ("--- ภาระงานข้อที่ 7: การคัดกรองข้อมูล ---")
# ข้อ7คัดกรองข้อมูล
print ("นักศึกษาวิศวกรรมคอมพิวเตอร์ที่ได้เกรด 'A':")
cpe_a = df[(df['Major'] == 'Computer Engineering') & (df['FinalGrade'] == 'A')]
print(cpe_a[['FullName', 'Major', 'FinalGrade']])
la = df[df['Attendance'] < 70]
print ("\n")
print ("นักศึกษาที่มีการเข้าเรียนน้อยกว่า 70%:")
print(la[['FullName', 'Attendance']])

print ("\n")
print ("--------------------------------------------------")
print ("\n")
print ("--- ภาระงานข้อที่ 8: การเรียงลำดับข้อมูล ---")
#ข้อ8 เรียงข้อมูล
print ("5 อันดับแรกของนักศึกษาที่มีคะแนนรวมสูงสุด:")
sortdf = df.sort_values(by= 'TotalScore', ascending=False)
Top5 = sortdf.head(5)
print(Top5 [['FullName','Major','TotalScore','FinalGrade']])

print ("\n")
print ("--------------------------------------------------")
print ("\n")

#ข้อ9 การจัดกลุ่มและสรุปข้อมูล
print ("--- ภาระงานข้อที่ 9: การจัดกลุ่มและสรุปผลข้อมูล ---")
print ("สาขาวิชาที่มีคะแนนรวมเฉลี่ยสูงสุดคือ:")
group = df.groupby('Major').agg({
    'TotalScore' : 'mean' , 'FinalScore' : 'mean'
})
print(group)
#สาขาที่่คะแนนเฉลี่ยสูงที่สุด = Computer Engineering

print ("\n")
print ("--------------------------------------------------")
print ("\n")
print ("--- ภาระงานข้อที่ 10: การเตรียมและการบันทึกรายงานสรุป ---")
print ("ตัวอย่างข้อมูลใน report_df:")
#ข้อ10 รายงานสรุป
report_df = df[[ 'StudentID' , 'FullName' , 'Major' , 'TotalScore' , 'FinalGrade']]
print (report_df)
op_name = 'student_grade_report.csv'
report_df.to_csv(op_name, index=False)
