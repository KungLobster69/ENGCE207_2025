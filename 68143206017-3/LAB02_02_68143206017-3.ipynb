print("---ส่วนที่ 2: การเลือกและคัดกรองข้อมูล ---")

#2.1 การเลือกคอลัมน์
print("\n2.1 เลือกแสดงข้อมูลเฉพาะคอลัมน์ Name, Platform, Year, และ Global_Sales:")
selected_colums = df[['Name', 'Platform', 'Year', 'Global_Sales']]
print(selected_colums.head())

#2.2 การคัดกรองตามเงื่อนไข
will_games = df[df['Platform'] == 'Will']
print(will_games.head())

action_games_high_sales = df[(df['Genre'] == 'Action') & (df['Global_Sales'] > 10)]
print(action_games_high_sales)

major_publishers =['Nintendo', 'Sony Computer Entertainment']
nintendo_or_sony_games = df[df['Publisher'].isin(major_publishers)]
print(nintendo_or_sony_games.head())

#2.3 การเลือกด้วย .loc
loc_selection = df.loc[100:105,['Name', 'Genre', 'Publisher']]
print(loc_selection)
