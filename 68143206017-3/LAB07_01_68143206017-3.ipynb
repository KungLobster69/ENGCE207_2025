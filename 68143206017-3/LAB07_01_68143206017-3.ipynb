{
 "cells": [
  {
   "cell_type": "code",
   "execution_count": 3,
   "id": "86cc9cb5",
   "metadata": {},
   "outputs": [
    {
     "name": "stdout",
     "output_type": "stream",
     "text": [
      "\n",
      "คะแนนของนักเรียนทั้งหมด [55.0, 65.0, 75.0, 85.0, 95.0]\n",
      "คะแนนสูงที่สุด 95.0\n",
      "คะแนนต่ำที่สุด 55.0\n",
      "ค่าเฉลี่ยของคะแนน 75.0\n"
     ]
    }
   ],
   "source": [
    "try:\n",
    "#คะแนนว่าง \n",
    "    empty_score = []\n",
    "\n",
    "    for i in range(5):\n",
    "        score = float(input(f\"กรอกคะแนนของฯักศึกษาคนที่ {i+1}:\"))\n",
    "        empty_score.append(score)\n",
    "\n",
    "#แสดงผลลัพธ์\n",
    "    print(\"\\nคะแนนของนักเรียนทั้งหมด\", empty_score)\n",
    "    print(\"คะแนนสูงที่สุด\", max(empty_score))\n",
    "    print(\"คะแนนต่ำที่สุด\", min(empty_score))\n",
    "    print(\"ค่าเฉลี่ยของคะแนน\", sum(empty_score) / len(empty_score))\n",
    "except ValueError :\n",
    "    print(\"ข้มูลไม่ถูกต้อง\")"
   ]
  }
 ],
 "metadata": {
  "kernelspec": {
   "display_name": "Python 3",
   "language": "python",
   "name": "python3"
  },
  "language_info": {
   "codemirror_mode": {
    "name": "ipython",
    "version": 3
   },
   "file_extension": ".py",
   "mimetype": "text/x-python",
   "name": "python",
   "nbconvert_exporter": "python",
   "pygments_lexer": "ipython3",
   "version": "3.13.5"
  }
 },
 "nbformat": 4,
 "nbformat_minor": 5
}
