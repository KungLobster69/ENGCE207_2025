import pandas as pd
import numpy as np
import matplotlib.pyplot as plt
import seaborn as sns
import sklearn as skl

from sklearn.model_selection import train_test_split
from sklearn.preprocessing import StandardScaler
from sklearn.neighbors import KNeighborsClassifier
from sklearn.metrics import classification_report, confusion_matrix

from sklearn.datasets import load_breast_cancer

bc = load_breast_cancer()

df_cancer = pd.DataFrame(bc.data, columns=bc.feature_names)

df_cancer['target'] = bc.target

print("# --- เขียนโค้ดของคุณในส่วนนี้ ---")
print("\n")
print("# 1. โหลดข้อมูล")
print("# cancer download success!")
print("\n")
print("# 2. สร้างDataFrame")
print(df_cancer.head())

X_cancer = df_cancer.drop('target', axis=1)
y_cancer = df_cancer['target']

X_train_c, X_test_c, y_train_c, y_test_c = train_test_split(
    X_cancer, y_cancer, test_size=0.3, random_state=101
)
print("# 3. แยก x และ y")
print('Train set shape:', X_train_c.shape)
print('Test set shape:', X_test_c.shape)

scaler = StandardScaler()

scaler.fit(X_train_c)

X_train_c_scaled = scaler.transform(X_train_c)
X_test_c_scaled = scaler.transform(X_test_c)

df_train_scaled = pd.DataFrame(X_train_c_scaled, columns=X_cancer.columns)
print(df_train_scaled.describe())

knn_c = KNeighborsClassifier(n_neighbors=1)

knn_c.fit(X_train_c_scaled, y_train_c)

print("โมเดล k-NN ถูกฝึกฝนเรียบร้อยแล้ว!")

predictions_c = knn_c.predict(X_test_c_scaled)
print("Predictions:", predictions_c)

from sklearn.metrics import classification_report

print(classification_report(y_test_c, predictions_c,target_names=bc.target_names))

from sklearn.metrics import confusion_matrix

cm = confusion_matrix(y_test_c, predictions_c)

print("confusion_matrix:")
print(cm)

plt.figure(figsize=(8,6))
sns.heatmap(cm, annot=True, fmt='d', cmap='Blues',
            xticklabels=bc.target_names,
            yticklabels=bc.target_names)
plt.xlabel('Predicted')
plt.ylabel('Actual')
plt.title('Confusion Matrix for bc k -NN (k=1)')
plt.show()


#-------------------------------------------------------การหาค่า Error------------------------------------------------------------------------
import numpy as np
import matplotlib.pyplot as plt
from sklearn.datasets import load_breast_cancer
from sklearn.model_selection import train_test_split
from sklearn.preprocessing import StandardScaler
from sklearn.neighbors import KNeighborsClassifier

# 1. โหลดชุดข้อมูล
data = load_breast_cancer()
X = data.data
y = data.target

# 2. แบ่งข้อมูลเป็น train/test set
X_train, X_test, y_train, y_test = train_test_split(X, y, test_size=0.2, random_state=42)

# 3. Scaling ข้อมูล
scaler = StandardScaler()
X_train_scaled = scaler.fit_transform(X_train)
X_test_scaled = scaler.transform(X_test)

# 4. วนลูปหาค่า Error Rate สำหรับ k = 1 ถึง 40
error_rate = []

for k in range(1, 41):
    model = KNeighborsClassifier(n_neighbors=k)
    model.fit(X_train_scaled, y_train)
    predictions = model.predict(X_test_scaled)
    
    acc = np.mean(predictions == y_test)
    error = 1 - acc  # Error Rate = 1 - Accuracy
    error_rate.append(error)

# 5. Plot กราฟ Elbow
plt.figure(figsize=(12, 6))
plt.plot(range(1, 41), error_rate, marker='o', linestyle='dashed', color='blue')
plt.title('Elbow Method: k vs Error Rate')
plt.xlabel('k')
plt.ylabel('Error Rate')
plt.xticks(range(1, 41))
plt.grid(True)
plt.show()

#-------------------------------------------------------การหาค่า Error------------------------------------------------------------------------

from sklearn.neighbors import KNeighborsClassifier

# สร้าง list ว่างสำหรับเก็บค่า error rate
error_rate_c = []

# ลูปค่า k ตั้งแต่ 1 ถึง 40
for i in range(1, 41):
    # สร้าง model KNN โดยใช้ค่า k = i
    knn = KNeighborsClassifier(n_neighbors=i)

    # ฝึก model กับข้อมูล train ที่ผ่านการ scale แล้ว
    knn.fit(X_train_c_scaled, y_train_c)

    # ทำนายผลบน test set ที่ scale แล้ว
    pred_i = knn.predict(X_test_c_scaled)

    # คำนวณ error rate และบันทึกลงใน list
    error = np.mean(pred_i != y_test_c)
    error_rate_c.append(error)

# แสดงผลค่า error_rate_c

for idx, err in enumerate(error_rate, start=1):
    print(f"k = {idx:2d} -> Error Rate = {err:.4f}")

#-------------------------------------------------------การหาค่า Error------------------------------------------------------------------------

import matplotlib.pyplot as plt

# สมมติว่ามี error_rate_c แล้ว (จากการคำนวณในคำสั่งที่ 1)
# error_rate_c = [...]  # ใส่ list ค่าจริงตรงนี้หรือลิงก์กับโค้ดจากด้านบน

# 1. กำหนดขนาดกราฟ
plt.figure(figsize=(10, 6))

# 2. พล็อตกราฟ Elbow
plt.plot(range(1, 41), error_rate_c, marker='o', linestyle='--', color='blue')

# 3. เพิ่มรายละเอียดกราฟ
plt.title('Elbow Method: k')
plt.xlabel('numberneighbors of k')
plt.ylabel('(Error Rate)')
plt.xticks(range(1, 41))  # ให้แกน X ชัดเจนทีละค่า

# 4. แสดงกราฟ
plt.grid(True)
plt.show()
