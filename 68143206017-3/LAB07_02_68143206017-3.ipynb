{
 "cells": [
  {
   "cell_type": "code",
   "execution_count": 12,
   "id": "a8979d39",
   "metadata": {},
   "outputs": [
    {
     "name": "stdout",
     "output_type": "stream",
     "text": [
      "ข้อมูลสินค้าทั้งหมดในคลัง\n",
      "--------------------------------\n",
      "รหัสสินค้า: P001 | ชื่อสินค้า: Keyboard | จำนวนที่เหลือ: 50\n",
      "รหัสสินค้า: P002 | ชื่อสินค้า: Mouse | จำนวนที่เหลือ: 75\n",
      "รหัสสินค้า: P003 | ชื่อสินค้า: Monitor | จำนวนที่เหลือ: 30\n"
     ]
    }
   ],
   "source": [
    "inventory = [\n",
    "    (\"P001\",\"Keyboard\",50),\n",
    "    (\"P002\",\"Mouse\",75),\n",
    "    (\"P003\",\"Monitor\",30)\n",
    "]\n",
    "\n",
    "print(\"ข้อมูลสินค้าทั้งหมดในคลัง\")\n",
    "print(\"--------------------------------\")\n",
    "for item in inventory:\n",
    "    id_product, name, stock = item\n",
    "    print(f\"รหัสสินค้า: {id_product} | ชื่อสินค้า: {name} | จำนวนที่เหลือ: {stock}\")"
   ]
  }
 ],
 "metadata": {
  "kernelspec": {
   "display_name": "Python 3",
   "language": "python",
   "name": "python3"
  },
  "language_info": {
   "codemirror_mode": {
    "name": "ipython",
    "version": 3
   },
   "file_extension": ".py",
   "mimetype": "text/x-python",
   "name": "python",
   "nbconvert_exporter": "python",
   "pygments_lexer": "ipython3",
   "version": "3.13.5"
  }
 },
 "nbformat": 4,
 "nbformat_minor": 5
}
