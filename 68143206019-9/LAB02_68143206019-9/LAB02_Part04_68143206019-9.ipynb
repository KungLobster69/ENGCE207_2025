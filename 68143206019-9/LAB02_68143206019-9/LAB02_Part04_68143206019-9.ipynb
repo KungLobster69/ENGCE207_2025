{
 "cells": [
  {
   "cell_type": "code",
   "execution_count": null,
   "id": "04b64c22",
   "metadata": {},
   "outputs": [],
   "source": [
    "import pandas as pd\n",
    "import numpy as np\n",
    "df = pd.read_csv('vgsales.csv')\n",
    "df.dropna(subset=['Year'], inplace=True)"
   ]
  },
  {
   "cell_type": "code",
   "execution_count": null,
   "id": "d2a3f849",
   "metadata": {},
   "outputs": [],
   "source": [
    "#4.1 เรียงลำดับข้อมูล\n",
    "sorted = df.sort_values(by='Global_Sales', ascending=False)\n",
    "print(sorted.head())"
   ]
  },
  {
   "cell_type": "code",
   "execution_count": null,
   "id": "65261df1",
   "metadata": {},
   "outputs": [],
   "source": [
    "#4.2 สร้างคอลัมน์ใหม่\n",
    "df['Sales_Outside_JP'] = df['NA_Sales'] + df['EU_Sales'] + df['Other_Sales']\n",
    "print (df[['Name', 'NA_Sales', 'EU_Sales', 'Other_Sales', 'Sales_Outside_JP']].head())"
   ]
  },
  {
   "cell_type": "code",
   "execution_count": null,
   "id": "2f9dc8de",
   "metadata": {},
   "outputs": [],
   "source": [
    "# convert 'Year' column to integer type as it was float\n",
    "df['Year'] = df['Year'].astype(int)"
   ]
  },
  {
   "cell_type": "code",
   "execution_count": 42,
   "id": "e3f4023b",
   "metadata": {},
   "outputs": [],
   "source": [
    "#define the funtion to find the decade\n",
    "def find_decade(year):\n",
    "    if 1980 <= year < 1990:\n",
    "        return '1980s'\n",
    "    elif 1990 <= year < 2000:\n",
    "        return '1990s'\n",
    "    elif 2000 <= year < 2010:\n",
    "        return '2000s'\n",
    "    else:\n",
    "        return '2010_and_later'\n",
    "#Apply the funtion to 'year' column\n",
    "df ['Release_Decade'] = df ['Year'].apply(find_decade)   "
   ]
  }
 ],
 "metadata": {
  "kernelspec": {
   "display_name": ".venv",
   "language": "python",
   "name": "python3"
  },
  "language_info": {
   "codemirror_mode": {
    "name": "ipython",
    "version": 3
   },
   "file_extension": ".py",
   "mimetype": "text/x-python",
   "name": "python",
   "nbconvert_exporter": "python",
   "pygments_lexer": "ipython3",
   "version": "3.13.5"
  }
 },
 "nbformat": 4,
 "nbformat_minor": 5
}
