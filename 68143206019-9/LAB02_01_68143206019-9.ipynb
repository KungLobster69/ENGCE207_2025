{
 "cells": [
  {
   "cell_type": "code",
   "execution_count": null,
   "id": "04b64c22",
   "metadata": {},
   "outputs": [],
   "source": [
    "import pandas as pd\n",
    "import numpy as np"
   ]
  },
  {
   "cell_type": "code",
   "execution_count": null,
   "id": "7097154d",
   "metadata": {},
   "outputs": [],
   "source": [
    "df = pd.read_csv('vgsales.csv')"
   ]
  },
  {
   "cell_type": "code",
   "execution_count": null,
   "id": "385a5521",
   "metadata": {},
   "outputs": [],
   "source": [
    "print(df.head)\n",
    "print(f\"Dataframe มี {df.shape[0]} แถวและ {df.shape[1]} คอลัมน์\")\n",
    "df.info()\n",
    "print(df.describe())"
   ]
  },
  {
   "cell_type": "code",
   "execution_count": null,
   "id": "105536c8",
   "metadata": {},
   "outputs": [],
   "source": [
    "df.info()\n",
    "#มีข้อมูลขาดหาย \n",
    "# คอลัมน์ year        271 รายการ\n",
    "# คอลัมน์ publisher   58 รายการ\n",
    "# รวม 329 รายการ"
   ]
  }
 ],
 "metadata": {
  "kernelspec": {
   "display_name": ".venv",
   "language": "python",
   "name": "python3"
  },
  "language_info": {
   "codemirror_mode": {
    "name": "ipython",
    "version": 3
   },
   "file_extension": ".py",
   "mimetype": "text/x-python",
   "name": "python",
   "nbconvert_exporter": "python",
   "pygments_lexer": "ipython3",
   "version": "3.13.5"
  }
 },
 "nbformat": 4,
 "nbformat_minor": 5
}
