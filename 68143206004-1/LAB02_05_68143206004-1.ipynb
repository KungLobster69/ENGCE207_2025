{
 "cells": [
  {
   "cell_type": "code",
   "execution_count": 1,
   "id": "b23cd516",
   "metadata": {},
   "outputs": [],
   "source": [
    "import pandas as pd\n",
    "import numpy as np\n"
   ]
  },
  {
   "cell_type": "code",
   "execution_count": 2,
   "id": "5f1e9f39",
   "metadata": {},
   "outputs": [],
   "source": [
    "df = pd.read_csv('vgsales.csv')"
   ]
  },
  {
   "cell_type": "code",
   "execution_count": 3,
   "id": "cca5b364",
   "metadata": {},
   "outputs": [
    {
     "name": "stdout",
     "output_type": "stream",
     "text": [
      "--- ส่วนที่ 5: การบันทึกข้อมูล --- \n",
      "\n",
      "5.1 บันทึกข้อมูลที่จัดการเรียบร้อยแล้วลงในไฟล์ 'vgsales_clened.csv'\n",
      "\n",
      "--- สิ้นสุดการปฎิบัติการ ---\n"
     ]
    }
   ],
   "source": [
    "print(\"--- ส่วนที่ 5: การบันทึกข้อมูล --- \")\n",
    "\n",
    "# 5.1 บันทึก DataFrame ที่จัดการแล้วลงไฟล์ CSV\n",
    "output_filename = 'vgsales_clened.csv'\n",
    "df.to_csv(output_filename, index=False)\n",
    "\n",
    "print(f\"\\n5.1 บันทึกข้อมูลที่จัดการเรียบร้อยแล้วลงในไฟล์ '{output_filename}'\")\n",
    "\n",
    "print(\"\\n--- สิ้นสุดการปฎิบัติการ ---\")"
   ]
  }
 ],
 "metadata": {
  "kernelspec": {
   "display_name": ".venv",
   "language": "python",
   "name": "python3"
  },
  "language_info": {
   "codemirror_mode": {
    "name": "ipython",
    "version": 3
   },
   "file_extension": ".py",
   "mimetype": "text/x-python",
   "name": "python",
   "nbconvert_exporter": "python",
   "pygments_lexer": "ipython3",
   "version": "3.13.5"
  }
 },
 "nbformat": 4,
 "nbformat_minor": 5
}
