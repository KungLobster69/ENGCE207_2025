{
 "cells": [
  {
   "cell_type": "code",
   "execution_count": 1,
   "id": "2502f9b7",
   "metadata": {},
   "outputs": [
    {
     "name": "stdout",
     "output_type": "stream",
     "text": [
      "Requirement already satisfied: pandas in c:\\users\\jasad\\onedrive\\desktop\\engce207\\.venv\\lib\\site-packages (2.3.1)\n",
      "Requirement already satisfied: numpy in c:\\users\\jasad\\onedrive\\desktop\\engce207\\.venv\\lib\\site-packages (2.3.1)\n",
      "Requirement already satisfied: matplotlib in c:\\users\\jasad\\onedrive\\desktop\\engce207\\.venv\\lib\\site-packages (3.10.3)\n",
      "Requirement already satisfied: seaborn in c:\\users\\jasad\\onedrive\\desktop\\engce207\\.venv\\lib\\site-packages (0.13.2)\n",
      "Requirement already satisfied: scikit-learn in c:\\users\\jasad\\onedrive\\desktop\\engce207\\.venv\\lib\\site-packages (1.7.1)\n",
      "Requirement already satisfied: python-dateutil>=2.8.2 in c:\\users\\jasad\\onedrive\\desktop\\engce207\\.venv\\lib\\site-packages (from pandas) (2.9.0.post0)\n",
      "Requirement already satisfied: pytz>=2020.1 in c:\\users\\jasad\\onedrive\\desktop\\engce207\\.venv\\lib\\site-packages (from pandas) (2025.2)\n",
      "Requirement already satisfied: tzdata>=2022.7 in c:\\users\\jasad\\onedrive\\desktop\\engce207\\.venv\\lib\\site-packages (from pandas) (2025.2)\n",
      "Requirement already satisfied: contourpy>=1.0.1 in c:\\users\\jasad\\onedrive\\desktop\\engce207\\.venv\\lib\\site-packages (from matplotlib) (1.3.2)\n",
      "Requirement already satisfied: cycler>=0.10 in c:\\users\\jasad\\onedrive\\desktop\\engce207\\.venv\\lib\\site-packages (from matplotlib) (0.12.1)\n",
      "Requirement already satisfied: fonttools>=4.22.0 in c:\\users\\jasad\\onedrive\\desktop\\engce207\\.venv\\lib\\site-packages (from matplotlib) (4.59.0)\n",
      "Requirement already satisfied: kiwisolver>=1.3.1 in c:\\users\\jasad\\onedrive\\desktop\\engce207\\.venv\\lib\\site-packages (from matplotlib) (1.4.8)\n",
      "Requirement already satisfied: packaging>=20.0 in c:\\users\\jasad\\onedrive\\desktop\\engce207\\.venv\\lib\\site-packages (from matplotlib) (25.0)\n",
      "Requirement already satisfied: pillow>=8 in c:\\users\\jasad\\onedrive\\desktop\\engce207\\.venv\\lib\\site-packages (from matplotlib) (11.3.0)\n",
      "Requirement already satisfied: pyparsing>=2.3.1 in c:\\users\\jasad\\onedrive\\desktop\\engce207\\.venv\\lib\\site-packages (from matplotlib) (3.2.3)\n",
      "Requirement already satisfied: scipy>=1.8.0 in c:\\users\\jasad\\onedrive\\desktop\\engce207\\.venv\\lib\\site-packages (from scikit-learn) (1.16.0)\n",
      "Requirement already satisfied: joblib>=1.2.0 in c:\\users\\jasad\\onedrive\\desktop\\engce207\\.venv\\lib\\site-packages (from scikit-learn) (1.5.1)\n",
      "Requirement already satisfied: threadpoolctl>=3.1.0 in c:\\users\\jasad\\onedrive\\desktop\\engce207\\.venv\\lib\\site-packages (from scikit-learn) (3.6.0)\n",
      "Requirement already satisfied: six>=1.5 in c:\\users\\jasad\\onedrive\\desktop\\engce207\\.venv\\lib\\site-packages (from python-dateutil>=2.8.2->pandas) (1.17.0)\n",
      "Note: you may need to restart the kernel to use updated packages.\n"
     ]
    }
   ],
   "source": [
    "pip install pandas numpy matplotlib seaborn scikit-learn"
   ]
  },
  {
   "cell_type": "code",
   "execution_count": 2,
   "id": "f8d44e41",
   "metadata": {},
   "outputs": [
    {
     "name": "stdout",
     "output_type": "stream",
     "text": [
      "   mean radius  mean texture  mean perimeter  mean area  mean smoothness  \\\n",
      "0        17.99         10.38          122.80     1001.0          0.11840   \n",
      "1        20.57         17.77          132.90     1326.0          0.08474   \n",
      "2        19.69         21.25          130.00     1203.0          0.10960   \n",
      "3        11.42         20.38           77.58      386.1          0.14250   \n",
      "4        20.29         14.34          135.10     1297.0          0.10030   \n",
      "\n",
      "   mean compactness  mean concavity  mean concave points  mean symmetry  \\\n",
      "0           0.27760          0.3001              0.14710         0.2419   \n",
      "1           0.07864          0.0869              0.07017         0.1812   \n",
      "2           0.15990          0.1974              0.12790         0.2069   \n",
      "3           0.28390          0.2414              0.10520         0.2597   \n",
      "4           0.13280          0.1980              0.10430         0.1809   \n",
      "\n",
      "   mean fractal dimension  ...  worst texture  worst perimeter  worst area  \\\n",
      "0                 0.07871  ...          17.33           184.60      2019.0   \n",
      "1                 0.05667  ...          23.41           158.80      1956.0   \n",
      "2                 0.05999  ...          25.53           152.50      1709.0   \n",
      "3                 0.09744  ...          26.50            98.87       567.7   \n",
      "4                 0.05883  ...          16.67           152.20      1575.0   \n",
      "\n",
      "   worst smoothness  worst compactness  worst concavity  worst concave points  \\\n",
      "0            0.1622             0.6656           0.7119                0.2654   \n",
      "1            0.1238             0.1866           0.2416                0.1860   \n",
      "2            0.1444             0.4245           0.4504                0.2430   \n",
      "3            0.2098             0.8663           0.6869                0.2575   \n",
      "4            0.1374             0.2050           0.4000                0.1625   \n",
      "\n",
      "   worst symmetry  worst fractal dimension  target  \n",
      "0          0.4601                  0.11890       0  \n",
      "1          0.2750                  0.08902       0  \n",
      "2          0.3613                  0.08758       0  \n",
      "3          0.6638                  0.17300       0  \n",
      "4          0.2364                  0.07678       0  \n",
      "\n",
      "[5 rows x 31 columns]\n",
      "Train set shape: (398, 30)\n",
      "Test set shape: (171, 30)\n"
     ]
    }
   ],
   "source": [
    "import pandas as pd\n",
    "import numpy as np \n",
    "import matplotlib.pyplot as plt\n",
    "import seaborn as sns\n",
    "import sklearn\n",
    "\n",
    "\n",
    "from sklearn.model_selection import train_test_split\n",
    "from sklearn.preprocessing import StandardScaler\n",
    "from sklearn.neighbors import KNeighborsClassifier\n",
    "from sklearn.metrics import classification_report, confusion_matrix\n",
    "from sklearn.datasets import load_breast_cancer\n",
    "\n",
    "cancer = load_breast_cancer()\n",
    "\n",
    "df = pd.DataFrame(cancer.data, columns=cancer.feature_names)\n",
    "\n",
    "df['target'] = cancer.target\n",
    "\n",
    "print(df.head())\n",
    "\n",
    "x_cancer = df.drop('target', axis=1)\n",
    "y_cancer = df['target']\n",
    "\n",
    "x_train_c, x_test_c, y_train_c, y_test_c = train_test_split(\n",
    "    x_cancer, y_cancer, test_size=0.3, random_state=101\n",
    ")\n",
    "\n",
    "print('Train set shape:', x_train_c.shape)\n",
    "print('Test set shape:', x_test_c.shape)"
   ]
  },
  {
   "cell_type": "code",
   "execution_count": 9,
   "id": "bff89113",
   "metadata": {},
   "outputs": [
    {
     "name": "stdout",
     "output_type": "stream",
     "text": [
      "        mean radius  mean texture  mean perimeter     mean area  \\\n",
      "count  3.980000e+02  3.980000e+02    3.980000e+02  3.980000e+02   \n",
      "mean  -4.815802e-15  1.324457e-15   -1.008685e-15  7.007237e-16   \n",
      "std    1.001259e+00  1.001259e+00    1.001259e+00  1.001259e+00   \n",
      "min   -1.962948e+00 -2.197955e+00   -1.922573e+00 -1.409040e+00   \n",
      "25%   -6.994600e-01 -7.395325e-01   -6.967683e-01 -6.761255e-01   \n",
      "50%   -2.261573e-01 -9.832940e-02   -2.205841e-01 -3.021781e-01   \n",
      "75%    4.750835e-01  5.834489e-01    4.982494e-01  3.216744e-01   \n",
      "max    3.735923e+00  4.561537e+00    3.874681e+00  5.192092e+00   \n",
      "\n",
      "       mean smoothness  mean compactness  mean concavity  mean concave points  \\\n",
      "count     3.980000e+02      3.980000e+02    3.980000e+02         3.980000e+02   \n",
      "mean     -3.492460e-15     -7.397767e-16   -7.141133e-17        -5.645958e-16   \n",
      "std       1.001259e+00      1.001259e+00    1.001259e+00         1.001259e+00   \n",
      "min      -3.106701e+00     -1.596284e+00   -1.084206e+00        -1.233333e+00   \n",
      "25%      -7.741692e-01     -7.414744e-01   -7.516551e-01        -7.302742e-01   \n",
      "50%      -4.364311e-03     -1.852101e-01   -3.516676e-01        -4.007501e-01   \n",
      "75%       6.254923e-01      5.016619e-01    5.206223e-01         6.275880e-01   \n",
      "max       3.442242e+00      4.565907e+00    4.120510e+00         3.920204e+00   \n",
      "\n",
      "       mean symmetry  mean fractal dimension  ...  worst radius  \\\n",
      "count   3.980000e+02            3.980000e+02  ...  3.980000e+02   \n",
      "mean    8.687635e-15           -2.186972e-16  ...  3.824969e-15   \n",
      "std     1.001259e+00            1.001259e+00  ...  1.001259e+00   \n",
      "min    -2.774161e+00           -1.819704e+00  ... -1.661939e+00   \n",
      "25%    -6.695199e-01           -6.737817e-01  ... -6.751394e-01   \n",
      "50%    -8.080906e-02           -1.709899e-01  ... -2.643520e-01   \n",
      "75%     5.308983e-01            4.697145e-01  ...  4.753685e-01   \n",
      "max     4.511135e+00            4.761291e+00  ...  4.019357e+00   \n",
      "\n",
      "       worst texture  worst perimeter    worst area  worst smoothness  \\\n",
      "count   3.980000e+02     3.980000e+02  3.980000e+02      3.980000e+02   \n",
      "mean    1.221803e-15    -3.204583e-15 -1.151508e-15      4.204342e-15   \n",
      "std     1.001259e+00     1.001259e+00  1.001259e+00      1.001259e+00   \n",
      "min    -2.216982e+00    -1.635291e+00 -1.164320e+00     -2.712345e+00   \n",
      "25%    -7.530784e-01    -6.822794e-01 -6.383422e-01     -7.079527e-01   \n",
      "50%    -8.323759e-02    -2.717010e-01 -3.340295e-01     -2.801559e-03   \n",
      "75%     6.992419e-01     5.386683e-01  2.878193e-01      5.888643e-01   \n",
      "max     3.777634e+00     4.218786e+00  5.733659e+00      3.961470e+00   \n",
      "\n",
      "       worst compactness  worst concavity  worst concave points  \\\n",
      "count       3.980000e+02     3.980000e+02          3.980000e+02   \n",
      "mean       -5.835645e-16    -4.998793e-16          1.338962e-16   \n",
      "std         1.001259e+00     1.001259e+00          1.001259e+00   \n",
      "min        -1.448285e+00    -1.270207e+00         -1.710019e+00   \n",
      "25%        -7.132185e-01    -7.700004e-01         -7.551727e-01   \n",
      "50%        -2.725964e-01    -2.380568e-01         -2.503607e-01   \n",
      "75%         5.614835e-01     5.158173e-01          7.576193e-01   \n",
      "max         5.076910e+00     4.488490e+00          2.639361e+00   \n",
      "\n",
      "       worst symmetry  worst fractal dimension  \n",
      "count    3.980000e+02             3.980000e+02  \n",
      "mean     5.009951e-16            -1.114128e-15  \n",
      "std      1.001259e+00             1.001259e+00  \n",
      "min     -2.153410e+00            -1.604033e+00  \n",
      "25%     -6.438336e-01            -6.619128e-01  \n",
      "50%     -1.409080e-01            -2.230487e-01  \n",
      "75%      4.095916e-01             4.349099e-01  \n",
      "max      5.957364e+00             6.619235e+00  \n",
      "\n",
      "[8 rows x 30 columns]\n"
     ]
    }
   ],
   "source": [
    "scaler = StandardScaler()\n",
    "\n",
    "scaler.fit(x_train_c)\n",
    "\n",
    "x_train_scaled = scaler.transform(x_train_c)\n",
    "x_test_scaled = scaler.transform(x_test_c)\n",
    "\n",
    "df_train_scaled = pd.DataFrame(x_train_scaled, columns=x_cancer.columns)\n",
    "print(df_train_scaled.describe())\n"
   ]
  },
  {
   "cell_type": "code",
   "execution_count": 4,
   "id": "d4f41cc2",
   "metadata": {},
   "outputs": [
    {
     "name": "stdout",
     "output_type": "stream",
     "text": [
      "โมเดล k-NN ถูกฝึกฝนเรียบร้อยแล้ว!!!\n"
     ]
    }
   ],
   "source": [
    "knn_cancer = KNeighborsClassifier(n_neighbors=1)\n",
    "\n",
    "knn_cancer.fit(x_train_scaled, y_train_c)\n",
    "\n",
    "print(\"โมเดล k-NN ถูกฝึกฝนเรียบร้อยแล้ว!!!\")"
   ]
  },
  {
   "cell_type": "code",
   "execution_count": 5,
   "id": "c82103ea",
   "metadata": {},
   "outputs": [
    {
     "name": "stdout",
     "output_type": "stream",
     "text": [
      "Predictions: [1 1 1 0 1 1 1 0 1 1 0 1 1 1 0 1 1 1 0 1 1 1 1 1 0 1 0 1 0 0 0 0 1 0 1 1 0\n",
      " 0 0 0 0 1 1 1 1 1 0 1 0 1 0 1 1 0 1 1 0 0 1 1 0 1 1 1 0 1 1 0 0 1 0 1 1 1\n",
      " 0 0 1 0 0 1 0 1 1 1 1 1 0 1 0 1 1 0 0 1 1 1 1 1 0 0 0 1 1 1 1 1 1 1 1 1 1\n",
      " 1 1 0 1 1 1 0 0 0 0 0 0 1 1 1 1 1 1 1 0 0 1 1 1 1 0 0 0 1 0 1 0 1 1 1 0 1\n",
      " 1 1 1 0 0 0 1 0 1 0 1 1 0 1 1 0 0 1 1 1 1 0 1]\n"
     ]
    }
   ],
   "source": [
    "prediction = knn_cancer.predict(x_test_scaled)\n",
    "print(\"Predictions:\",prediction)"
   ]
  },
  {
   "cell_type": "code",
   "execution_count": 13,
   "id": "1ccc2bab",
   "metadata": {},
   "outputs": [
    {
     "name": "stdout",
     "output_type": "stream",
     "text": [
      "confusion matrix:\n",
      "[[ 61   5]\n",
      " [  3 102]]\n",
      "\n",
      "classification_report:\n",
      "              precision    recall  f1-score   support\n",
      "\n",
      "           0       0.95      0.92      0.94        66\n",
      "           1       0.95      0.97      0.96       105\n",
      "\n",
      "    accuracy                           0.95       171\n",
      "   macro avg       0.95      0.95      0.95       171\n",
      "weighted avg       0.95      0.95      0.95       171\n",
      "\n"
     ]
    },
    {
     "data": {
      "image/png": "[encoded data removed]",
      "text/plain": [
       "<Figure size 640x480 with 2 Axes>"
      ]
     },
     "metadata": {},
     "output_type": "display_data"
    }
   ],
   "source": [
    "from sklearn.metrics import confusion_matrix\n",
    "\n",
    "cm = confusion_matrix(y_test_c, prediction)\n",
    "\n",
    "print(\"confusion matrix:\")\n",
    "print(cm)\n",
    "print(\"\\nclassification_report:\")\n",
    "print(classification_report(y_test_c, prediction))\n",
    "plt.Figure(figsize=(8,6))\n",
    "sns.heatmap(cm, annot=True, fmt='d', cmap='Blues',\n",
    "            xticklabels=cancer.target_names,\n",
    "            yticklabels=cancer.target_names)\n",
    "plt.xlabel('prediction')\n",
    "plt.ylabel('Actual')\n",
    "plt.title('Cofusion Matrix for cancer k-NN (k=1)')\n",
    "plt.show()"
   ]
  }
 ],
 "metadata": {
  "kernelspec": {
   "display_name": ".venv",
   "language": "python",
   "name": "python3"
  },
  "language_info": {
   "codemirror_mode": {
    "name": "ipython",
    "version": 3
   },
   "file_extension": ".py",
   "mimetype": "text/x-python",
   "name": "python",
   "nbconvert_exporter": "python",
   "pygments_lexer": "ipython3",
   "version": "3.13.5"
  }
 },
 "nbformat": 4,
 "nbformat_minor": 5
}
