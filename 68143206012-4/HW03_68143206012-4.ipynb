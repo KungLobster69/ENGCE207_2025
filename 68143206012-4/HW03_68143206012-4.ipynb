{
 "cells": [
  {
   "cell_type": "code",
   "execution_count": 9,
   "id": "2fd34dda",
   "metadata": {},
   "outputs": [],
   "source": [
    "import pandas as pd\n",
    "import numpy as np"
   ]
  },
  {
   "cell_type": "code",
   "execution_count": 10,
   "id": "6c335202",
   "metadata": {},
   "outputs": [
    {
     "name": "stdout",
     "output_type": "stream",
     "text": [
      "   StudentID FirstName   LastName                   Major  MidtermScore  \\\n",
      "0    6401001   Somchai     Jaidee    Computer Engineering          85.0   \n",
      "1    6401002    Somsri     Rakdee    Computer Engineering          76.0   \n",
      "2    6401003      Mana      Petch       Civil Engineering          65.0   \n",
      "3    6401004    Chujai      Klaew  Electrical Engineering          92.0   \n",
      "4    6401005      Piti     Yindee    Computer Engineering          88.0   \n",
      "5    6401006     Malee     Boonma       Civil Engineering           NaN   \n",
      "6    6401007     Weera    Chokdee  Electrical Engineering          78.0   \n",
      "7    6401008     Jinda     Suksai    Computer Engineering          95.0   \n",
      "8    6401009      Arun  Rungrueng  Industrial Engineering          55.0   \n",
      "9    6401010     Naree    Ngamdee       Civil Engineering          72.0   \n",
      "\n",
      "   FinalScore  ProjectScore  Attendance  \n",
      "0        90.0          45.0          95  \n",
      "1         NaN          48.0          88  \n",
      "2        72.0          38.0          92  \n",
      "3        95.0          50.0          98  \n",
      "4        85.0          42.0          85  \n",
      "5        65.0          35.0          75  \n",
      "6        82.0          40.0          90  \n",
      "7        98.0          49.0          99  \n",
      "8        60.0          30.0          68  \n",
      "9        78.0          41.0          94  \n",
      "<class 'pandas.core.frame.DataFrame'>\n",
      "RangeIndex: 15 entries, 0 to 14\n",
      "Data columns (total 8 columns):\n",
      " #   Column        Non-Null Count  Dtype  \n",
      "---  ------        --------------  -----  \n",
      " 0   StudentID     15 non-null     int64  \n",
      " 1   FirstName     15 non-null     object \n",
      " 2   LastName      15 non-null     object \n",
      " 3   Major         15 non-null     object \n",
      " 4   MidtermScore  13 non-null     float64\n",
      " 5   FinalScore    14 non-null     float64\n",
      " 6   ProjectScore  15 non-null     float64\n",
      " 7   Attendance    15 non-null     int64  \n",
      "dtypes: float64(3), int64(2), object(3)\n",
      "memory usage: 1.1+ KB\n",
      "None\n",
      "          StudentID  MidtermScore  FinalScore  ProjectScore  Attendance\n",
      "count  1.500000e+01     13.000000   14.000000     15.000000   15.000000\n",
      "mean   6.401008e+06     78.076923   81.571429     42.066667   87.533333\n",
      "std    4.472136e+00     13.344547   12.420295      6.295879   10.927466\n",
      "min    6.401001e+06     55.000000   60.000000     30.000000   65.000000\n",
      "25%    6.401004e+06     68.000000   72.750000     38.500000   82.500000\n",
      "50%    6.401008e+06     78.000000   81.000000     42.000000   91.000000\n",
      "75%    6.401012e+06     88.000000   91.500000     47.500000   94.500000\n",
      "max    6.401015e+06     98.000000  100.000000     50.000000  100.000000\n",
      "\n",
      "คอลัมน์ที่มีข้อมูลขาดหายคือ MidtermScore (2 ค่า) และ FinalScore (1 ค่า) \n",
      "ชนิดข้อมูลเป็น float64 เนื่องจาก Pandas จะแปลงคอลัมน์ที่มีค่าว่างเป็น float โดยอัตโนมัติ\n"
     ]
    }
   ],
   "source": [
    "# ข้อ1 ตรวจสอบข้อมูลเบื้องต้น\n",
    "df = pd.read_csv('student_data.csv')\n",
    "print(df.head(10))\n",
    "print(df.info())\n",
    "print(df.describe())\n",
    "print(\"\\nคอลัมน์ที่มีข้อมูลขาดหายคือ MidtermScore (2 ค่า) และ FinalScore (1 ค่า) \\nชนิดข้อมูลเป็น float64 เนื่องจาก Pandas จะแปลงคอลัมน์ที่มีค่าว่างเป็น float โดยอัตโนมัติ\")"
   ]
  },
  {
   "cell_type": "code",
   "execution_count": 11,
   "id": "82c29e7c",
   "metadata": {},
   "outputs": [
    {
     "name": "stdout",
     "output_type": "stream",
     "text": [
      "StudentID       0\n",
      "FirstName       0\n",
      "LastName        0\n",
      "Major           0\n",
      "MidtermScore    0\n",
      "FinalScore      0\n",
      "ProjectScore    0\n",
      "Attendance      0\n",
      "dtype: int64\n"
     ]
    }
   ],
   "source": [
    "# ข้อ2 จัดการข้อมูลขาดหาย\n",
    "df.fillna({'MidtermScore': df['MidtermScore'].median(),}, inplace=True)\n",
    "df.fillna({'FinalScore': df['FinalScore'].median(),}, inplace=True)\n",
    "print(df.isnull().sum())"
   ]
  },
  {
   "cell_type": "code",
   "execution_count": 12,
   "id": "514c4e7d",
   "metadata": {},
   "outputs": [
    {
     "data": {
      "text/plain": [
       "StudentID         int64\n",
       "FirstName        object\n",
       "LastName         object\n",
       "Major            object\n",
       "MidtermScore    float64\n",
       "FinalScore      float64\n",
       "ProjectScore      int64\n",
       "Attendance        int64\n",
       "dtype: object"
      ]
     },
     "execution_count": 12,
     "metadata": {},
     "output_type": "execute_result"
    }
   ],
   "source": [
    "# ข้อ3 แปลงข้อมูล\n",
    "df['ProjectScore'] = df['ProjectScore'].astype(int)\n",
    "df.dtypes"
   ]
  },
  {
   "cell_type": "code",
   "execution_count": 13,
   "id": "ac1e9886",
   "metadata": {},
   "outputs": [
    {
     "name": "stdout",
     "output_type": "stream",
     "text": [
      "0     Somchai Jaidee\n",
      "1      Somsri Rakdee\n",
      "2         Mana Petch\n",
      "3       Chujai Klaew\n",
      "4        Piti Yindee\n",
      "5       Malee Boonma\n",
      "6      Weera Chokdee\n",
      "7       Jinda Suksai\n",
      "8     Arun Rungrueng\n",
      "9      Naree Ngamdee\n",
      "10       David Smith\n",
      "11       Emily Jones\n",
      "12     Michael Brown\n",
      "13     Jessica Davis\n",
      "14      Chris Wilson\n",
      "Name: FullName, dtype: object\n"
     ]
    }
   ],
   "source": [
    "# ข้อ4 สร้างคอลัมน์ใหม่\n",
    "df['FullName'] = df['FirstName']+' '+df['LastName'] \n",
    "print(df['FullName'])"
   ]
  },
  {
   "cell_type": "code",
   "execution_count": 14,
   "id": "b7de95aa",
   "metadata": {},
   "outputs": [
    {
     "name": "stdout",
     "output_type": "stream",
     "text": [
      "0     88.0\n",
      "1     82.0\n",
      "2     70.0\n",
      "3     94.8\n",
      "4     86.0\n",
      "5     71.2\n",
      "6     80.0\n",
      "7     96.8\n",
      "8     58.0\n",
      "9     76.4\n",
      "10    99.2\n",
      "11    72.8\n",
      "12    82.0\n",
      "13    86.8\n",
      "14    66.0\n",
      "Name: TotalScore, dtype: float64\n"
     ]
    }
   ],
   "source": [
    "# ข้อ5 คำนวณคะแนนรวม\n",
    "df['TotalScore'] = (df['MidtermScore']+df['FinalScore']+df['ProjectScore'])/2.5\n",
    "\n",
    "print(df['TotalScore'])"
   ]
  },
  {
   "cell_type": "code",
   "execution_count": 15,
   "id": "b331ed80",
   "metadata": {},
   "outputs": [
    {
     "name": "stdout",
     "output_type": "stream",
     "text": [
      "          FullName                   Major FinalGrade\n",
      "0   Somchai Jaidee    Computer Engineering          A\n",
      "1    Somsri Rakdee    Computer Engineering          A\n",
      "2       Mana Petch       Civil Engineering          B\n",
      "3     Chujai Klaew  Electrical Engineering          A\n",
      "4      Piti Yindee    Computer Engineering          A\n",
      "5     Malee Boonma       Civil Engineering          B\n",
      "6    Weera Chokdee  Electrical Engineering          A\n",
      "7     Jinda Suksai    Computer Engineering          A\n",
      "8   Arun Rungrueng  Industrial Engineering         D+\n",
      "9    Naree Ngamdee       Civil Engineering         B+\n",
      "10     David Smith    Computer Engineering          A\n",
      "11     Emily Jones  Electrical Engineering          B\n",
      "12   Michael Brown       Civil Engineering          A\n",
      "13   Jessica Davis    Computer Engineering          A\n",
      "14    Chris Wilson  Industrial Engineering         C+\n"
     ]
    }
   ],
   "source": [
    "# ข้อ6 ตัดเกรด\n",
    "def calculate_grade(total_score):\n",
    "    if total_score >= 80:\n",
    "        return 'A'\n",
    "    elif total_score >= 75:\n",
    "        return 'B+'\n",
    "    elif total_score >= 70:\n",
    "        return 'B'\n",
    "    elif total_score >= 65:\n",
    "        return 'C+'\n",
    "    elif total_score >= 60:\n",
    "        return 'C'\n",
    "    elif total_score >= 55:\n",
    "        return 'D+'\n",
    "    elif total_score >= 50:\n",
    "        return 'D'\n",
    "    else:\n",
    "        return 'F'\n",
    "df['FinalGrade'] = df['TotalScore'].apply(calculate_grade)\n",
    "print (df[['FullName','Major','FinalGrade']])"
   ]
  },
  {
   "cell_type": "code",
   "execution_count": 16,
   "id": "609f62d1",
   "metadata": {},
   "outputs": [
    {
     "name": "stdout",
     "output_type": "stream",
     "text": [
      "          FullName                 Major FinalGrade\n",
      "0   Somchai Jaidee  Computer Engineering          A\n",
      "1    Somsri Rakdee  Computer Engineering          A\n",
      "4      Piti Yindee  Computer Engineering          A\n",
      "7     Jinda Suksai  Computer Engineering          A\n",
      "10     David Smith  Computer Engineering          A\n",
      "13   Jessica Davis  Computer Engineering          A\n",
      "          FullName  Attendance\n",
      "8   Arun Rungrueng          68\n",
      "14    Chris Wilson          65\n"
     ]
    }
   ],
   "source": [
    "# ข้อ7คัดกรองข้อมูล\n",
    "cpe_a = df[(df['Major'] == 'Computer Engineering') & (df['FinalGrade'] == 'A')]\n",
    "print(cpe_a[['FullName', 'Major', 'FinalGrade']])\n",
    "la = df[df['Attendance'] < 70]\n",
    "print(la[['FullName', 'Attendance']])"
   ]
  },
  {
   "cell_type": "code",
   "execution_count": 17,
   "id": "254544fc",
   "metadata": {},
   "outputs": [
    {
     "name": "stdout",
     "output_type": "stream",
     "text": [
      "          FullName                   Major  TotalScore FinalGrade\n",
      "10     David Smith    Computer Engineering        99.2          A\n",
      "7     Jinda Suksai    Computer Engineering        96.8          A\n",
      "3     Chujai Klaew  Electrical Engineering        94.8          A\n",
      "0   Somchai Jaidee    Computer Engineering        88.0          A\n",
      "13   Jessica Davis    Computer Engineering        86.8          A\n"
     ]
    }
   ],
   "source": [
    "#ข้อ8 เรียงข้อมูล\n",
    "sortdf = df.sort_values(by= 'TotalScore', ascending=False)\n",
    "Top5 = sortdf.head(5)\n",
    "print(Top5 [['FullName','Major','TotalScore','FinalGrade']])"
   ]
  },
  {
   "cell_type": "code",
   "execution_count": 18,
   "id": "1b0d1c93",
   "metadata": {},
   "outputs": [
    {
     "name": "stdout",
     "output_type": "stream",
     "text": [
      "                        TotalScore  FinalScore\n",
      "Major                                         \n",
      "Civil Engineering        74.900000       73.75\n",
      "Computer Engineering     89.800000       91.00\n",
      "Electrical Engineering   82.533333       84.00\n",
      "Industrial Engineering   62.000000       65.00\n",
      "\n",
      "สาขาวิชาที่มีคะแนนรวมเฉลี่ยสูงสุดคือ: Computer Engineering\n"
     ]
    }
   ],
   "source": [
    "#ข้อ9 การจัดกลุ่มและสรุปข้อมูล\n",
    "group = df.groupby('Major').agg({\n",
    "    'TotalScore' : 'mean' , 'FinalScore' : 'mean'\n",
    "})\n",
    "print(group)\n",
    "print(\"\\nสาขาวิชาที่มีคะแนนรวมเฉลี่ยสูงสุดคือ: Computer Engineering\")"
   ]
  },
  {
   "cell_type": "code",
   "execution_count": 19,
   "id": "c81548fe",
   "metadata": {},
   "outputs": [
    {
     "name": "stdout",
     "output_type": "stream",
     "text": [
      "    StudentID        FullName                   Major  TotalScore FinalGrade\n",
      "0     6401001  Somchai Jaidee    Computer Engineering        88.0          A\n",
      "1     6401002   Somsri Rakdee    Computer Engineering        82.0          A\n",
      "2     6401003      Mana Petch       Civil Engineering        70.0          B\n",
      "3     6401004    Chujai Klaew  Electrical Engineering        94.8          A\n",
      "4     6401005     Piti Yindee    Computer Engineering        86.0          A\n",
      "5     6401006    Malee Boonma       Civil Engineering        71.2          B\n",
      "6     6401007   Weera Chokdee  Electrical Engineering        80.0          A\n",
      "7     6401008    Jinda Suksai    Computer Engineering        96.8          A\n",
      "8     6401009  Arun Rungrueng  Industrial Engineering        58.0         D+\n",
      "9     6401010   Naree Ngamdee       Civil Engineering        76.4         B+\n",
      "10    6401011     David Smith    Computer Engineering        99.2          A\n",
      "11    6401012     Emily Jones  Electrical Engineering        72.8          B\n",
      "12    6401013   Michael Brown       Civil Engineering        82.0          A\n",
      "13    6401014   Jessica Davis    Computer Engineering        86.8          A\n",
      "14    6401015    Chris Wilson  Industrial Engineering        66.0         C+\n"
     ]
    }
   ],
   "source": [
    "#ข้อ10 รายงานสรุป\n",
    "report_df = df[[ 'StudentID' , 'FullName' , 'Major' , 'TotalScore' , 'FinalGrade']]\n",
    "print (report_df)\n",
    "op_name = 'student_grade_report.csv'\n",
    "report_df.to_csv(op_name, index=False)"
   ]
  }
 ],
 "metadata": {
  "kernelspec": {
   "display_name": "Python 3",
   "language": "python",
   "name": "python3"
  },
  "language_info": {
   "codemirror_mode": {
    "name": "ipython",
    "version": 3
   },
   "file_extension": ".py",
   "mimetype": "text/x-python",
   "name": "python",
   "nbconvert_exporter": "python",
   "pygments_lexer": "ipython3",
   "version": "3.13.5"
  }
 },
 "nbformat": 4,
 "nbformat_minor": 5
}
