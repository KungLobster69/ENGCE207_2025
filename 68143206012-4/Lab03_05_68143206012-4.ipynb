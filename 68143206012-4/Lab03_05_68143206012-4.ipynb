{
 "cells": [
  {
   "cell_type": "code",
   "execution_count": 2,
   "id": "2fd34dda",
   "metadata": {},
   "outputs": [
    {
     "name": "stdout",
     "output_type": "stream",
     "text": [
      "\n",
      "5.1 บันทึกข้อมูลที่จัดการเรียบร้อยแล้วลงในไฟล์ 'vgsales_cleaned.csv'\n"
     ]
    }
   ],
   "source": [
    "import pandas as pd\n",
    "import numpy as np\n",
    "\n",
    "df = pd.read_csv('vgsales.csv')\n",
    "\n",
    "# 5.1 บันทึก DataFrame ที่จัดการแล้วลงไฟล์ CSV\n",
    "output_filename = 'vgsales_cleaned.csv'\n",
    "df.to_csv(output_filename, index=False)\n",
    "print(f\"\\n5.1 บันทึกข้อมูลที่จัดการเรียบร้อยแล้วลงในไฟล์ '{output_filename}'\")"
   ]
  }
 ],
 "metadata": {
  "kernelspec": {
   "display_name": "Python 3",
   "language": "python",
   "name": "python3"
  },
  "language_info": {
   "codemirror_mode": {
    "name": "ipython",
    "version": 3
   },
   "file_extension": ".py",
   "mimetype": "text/x-python",
   "name": "python",
   "nbconvert_exporter": "python",
   "pygments_lexer": "ipython3",
   "version": "3.13.5"
  }
 },
 "nbformat": 4,
 "nbformat_minor": 5
}
