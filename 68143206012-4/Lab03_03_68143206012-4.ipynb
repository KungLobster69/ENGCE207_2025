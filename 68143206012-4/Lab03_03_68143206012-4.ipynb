{
 "cells": [
  {
   "cell_type": "code",
   "execution_count": 2,
   "id": "2fd34dda",
   "metadata": {},
   "outputs": [
    {
     "name": "stdout",
     "output_type": "stream",
     "text": [
      "\n",
      "3.1 จำนวนข้อมูลที่ขาดหายในแต่ละคอลัมน์ (ก่อนจัดการ):\n",
      "Rank              0\n",
      "Name              0\n",
      "Platform          0\n",
      "Year            271\n",
      "Genre             0\n",
      "Publisher        58\n",
      "NA_Sales          0\n",
      "EU_Sales          0\n",
      "JP_Sales          0\n",
      "Other_Sales       0\n",
      "Global_Sales      0\n",
      "dtype: int64\n",
      "\n",
      "3.2 ลบแถวที่คอลัมน์ 'Year' มีค่าว่าง:\n",
      "\n",
      "3.3 แทนที่ค่าว่างใน 'Publisher' ด้วย 'Unknown':\n",
      "\n",
      "3.4 จำนวนข้อมูลที่ขาดหายในแต่ละคอลัมน์ (หลังจัดการ):\n",
      "Rank            0\n",
      "Name            0\n",
      "Platform        0\n",
      "Year            0\n",
      "Genre           0\n",
      "Publisher       0\n",
      "NA_Sales        0\n",
      "EU_Sales        0\n",
      "JP_Sales        0\n",
      "Other_Sales     0\n",
      "Global_Sales    0\n",
      "dtype: int64\n",
      "จัดการข้อมูลที่ขาดหายเรียบร้อยแล้ว\n"
     ]
    },
    {
     "name": "stderr",
     "output_type": "stream",
     "text": [
      "C:\\Users\\Admin\\AppData\\Local\\Temp\\ipykernel_12944\\986087294.py:17: FutureWarning: A value is trying to be set on a copy of a DataFrame or Series through chained assignment using an inplace method.\n",
      "The behavior will change in pandas 3.0. This inplace method will never work because the intermediate object on which we are setting values always behaves as a copy.\n",
      "\n",
      "For example, when doing 'df[col].method(value, inplace=True)', try using 'df.method({col: value}, inplace=True)' or df[col] = df[col].method(value) instead, to perform the operation inplace on the original object.\n",
      "\n",
      "\n",
      "  df['Publisher'].fillna('Unknown', inplace=True)\n"
     ]
    }
   ],
   "source": [
    "import pandas as pd\n",
    "import numpy as np\n",
    "\n",
    "df = pd.read_csv('vgsales.csv')\n",
    "\n",
    "# 3.1 ตรวจสอบข้อมูลที่ขาดหาย\n",
    "print(\"\\n3.1 จำนวนข้อมูลที่ขาดหายในแต่ละคอลัมน์ (ก่อนจัดการ):\")\n",
    "print(df.isnull().sum())\n",
    "\n",
    "# 3.2 จัดการข้อมูล 'Year'\n",
    "print(\"\\n3.2 ลบแถวที่คอลัมน์ 'Year' มีค่าว่าง:\")\n",
    "df.dropna(subset=['Year'], inplace=True)\n",
    "# inplace=True คือการแก้ไข DataFrame เดิมโดยตรง\n",
    "\n",
    "# 3.3 จัดการข้อมูล 'Publisher'\n",
    "print(\"\\n3.3 แทนที่ค่าว่างใน 'Publisher' ด้วย 'Unknown':\")\n",
    "df['Publisher'].fillna('Unknown', inplace=True)\n",
    "\n",
    "# 3.4 ตรวจสอบผลลัพธ์\n",
    "print(\"\\n3.4 จำนวนข้อมูลที่ขาดหายในแต่ละคอลัมน์ (หลังจัดการ):\")\n",
    "print(df.isnull().sum())\n",
    "print(\"จัดการข้อมูลที่ขาดหายเรียบร้อยแล้ว\")"
   ]
  }
 ],
 "metadata": {
  "kernelspec": {
   "display_name": "Python 3",
   "language": "python",
   "name": "python3"
  },
  "language_info": {
   "codemirror_mode": {
    "name": "ipython",
    "version": 3
   },
   "file_extension": ".py",
   "mimetype": "text/x-python",
   "name": "python",
   "nbconvert_exporter": "python",
   "pygments_lexer": "ipython3",
   "version": "3.13.5"
  }
 },
 "nbformat": 4,
 "nbformat_minor": 5
}
