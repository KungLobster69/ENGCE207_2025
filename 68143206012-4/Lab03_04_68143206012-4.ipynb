{
 "cells": [
  {
   "cell_type": "code",
   "execution_count": 4,
   "id": "2fd34dda",
   "metadata": {},
   "outputs": [
    {
     "name": "stdout",
     "output_type": "stream",
     "text": [
      "\n",
      "4.1 เรียงลำดับข้อมูลตาม Global_Sales (มากไปน้อย):\n",
      "   Rank                      Name Platform    Year         Genre Publisher  \\\n",
      "0     1                Wii Sports      Wii  2006.0        Sports  Nintendo   \n",
      "1     2         Super Mario Bros.      NES  1985.0      Platform  Nintendo   \n",
      "2     3            Mario Kart Wii      Wii  2008.0        Racing  Nintendo   \n",
      "3     4         Wii Sports Resort      Wii  2009.0        Sports  Nintendo   \n",
      "4     5  Pokemon Red/Pokemon Blue       GB  1996.0  Role-Playing  Nintendo   \n",
      "\n",
      "   NA_Sales  EU_Sales  JP_Sales  Other_Sales  Global_Sales  \n",
      "0     41.49     29.02      3.77         8.46         82.74  \n",
      "1     29.08      3.58      6.81         0.77         40.24  \n",
      "2     15.85     12.88      3.79         3.31         35.82  \n",
      "3     15.75     11.01      3.28         2.96         33.00  \n",
      "4     11.27      8.89     10.22         1.00         31.37  \n",
      "\n",
      "4.2.1 สร้างคอลัมน์ 'Sales_Outside_JP':\n",
      "                       Name  NA_Sales  EU_Sales  Other_Sales  Sales_Outside_JP\n",
      "0                Wii Sports     41.49     29.02         8.46             78.97\n",
      "1         Super Mario Bros.     29.08      3.58         0.77             33.43\n",
      "2            Mario Kart Wii     15.85     12.88         3.31             32.04\n",
      "3         Wii Sports Resort     15.75     11.01         2.96             29.72\n",
      "4  Pokemon Red/Pokemon Blue     11.27      8.89         1.00             21.16\n",
      "\n",
      "4.2.2 สร้างคอลัมน์ 'Release_Decade':\n",
      "                       Name  Year Release_Decade\n",
      "0                Wii Sports  2006          2000s\n",
      "1         Super Mario Bros.  1985          1980s\n",
      "2            Mario Kart Wii  2008          2000s\n",
      "3         Wii Sports Resort  2009          2000s\n",
      "4  Pokemon Red/Pokemon Blue  1996          1990s\n"
     ]
    }
   ],
   "source": [
    "import pandas as pd\n",
    "import numpy as np\n",
    "\n",
    "df = pd.read_csv('vgsales.csv')\n",
    "\n",
    "# 4.1 เรียงลำดับข้อมูล\n",
    "print(\"\\n4.1 เรียงลำดับข้อมูลตาม Global_Sales (มากไปน้อย):\")\n",
    "df_sorted = df.sort_values(by='Global_Sales', ascending=False)\n",
    "print(df_sorted.head())\n",
    "\n",
    "# 4.2 สร้างคอลัมน์ใหม่ (Feature Engineering)\n",
    "print(\"\\n4.2.1 สร้างคอลัมน์ 'Sales_Outside_JP':\")\n",
    "df['Sales_Outside_JP'] = df['NA_Sales'] + df['EU_Sales'] + df['Other_Sales']\n",
    "print(df[['Name', 'NA_Sales', 'EU_Sales', 'Other_Sales', 'Sales_Outside_JP']].head())\n",
    "\n",
    "print(\"\\n4.2.2 สร้างคอลัมน์ 'Release_Decade':\")\n",
    "# เปลี่ยนข้อมูลที่ว่างไม่ได้ต้องลบออก\n",
    "df.dropna(subset=['Year'], inplace=True)\n",
    "# เปลี่ยนคอลัมน์ 'Year' เป็น integer จาก float\n",
    "df['Year'] = df['Year'].astype(int)\n",
    "\n",
    "# กำหนดฟังก์ชันหาทศวรรษ\n",
    "def find_decade(year):\n",
    "    if 1980 <= year < 1990:\n",
    "        return '1980s'\n",
    "    elif 1990 <= year < 2000:\n",
    "        return '1990s'\n",
    "    elif 2000 <= year < 2010:\n",
    "        return '2000s'\n",
    "    else:\n",
    "        return '2010s_and_later'\n",
    "    \n",
    "# นำฟังก์ชันมาใช้กับคอลัมน์ 'Year' \n",
    "df['Release_Decade'] = df['Year'].apply(find_decade)\n",
    "print(df[['Name', 'Year', 'Release_Decade']].head())"
   ]
  }
 ],
 "metadata": {
  "kernelspec": {
   "display_name": "Python 3",
   "language": "python",
   "name": "python3"
  },
  "language_info": {
   "codemirror_mode": {
    "name": "ipython",
    "version": 3
   },
   "file_extension": ".py",
   "mimetype": "text/x-python",
   "name": "python",
   "nbconvert_exporter": "python",
   "pygments_lexer": "ipython3",
   "version": "3.13.5"
  }
 },
 "nbformat": 4,
 "nbformat_minor": 5
}
