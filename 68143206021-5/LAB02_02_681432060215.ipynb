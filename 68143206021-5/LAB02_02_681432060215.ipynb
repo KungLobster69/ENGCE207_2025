{
 "cells": [
  {
   "cell_type": "code",
   "execution_count": null,
   "id": "0f64f787",
   "metadata": {},
   "outputs": [],
   "source": [
    "import pandas as pd\n",
    "import numpy as np\n",
    "\n",
    "df = pd.read_csv(\"vgsales.csv\")\n",
    "\n",
    "#การเลือกคอลัมน์\n",
    "print(\"\\n2.1 เลือกแสดงเฉพาะคอลัมน์ Name, Platform, Year, และ Global_Sales:\")\n",
    "selected_columns = df[['Name', 'Platform', 'Year', 'Global_Sales']]\n",
    "print(selected_columns.head())\n",
    "\n",
    "#การคัดกรองตามเงื่อนไข\n",
    "print(\"\\n2.2.1 คัดกรองเกมที่ลงในแพบตฟอร์ม 'will':\")\n",
    "will_games = df[df['Platform'] == 'will']\n",
    "print(will_games.head())\n",
    "\n",
    "print(\"\\n2.2.2 คัดกรองเกม Action ที่มียอดขายทั่วโลก > 10 ล้าน:\")\n",
    "action_games_high_sales = df[(df['Genre'] == 'Action') & (df['Global_Sales'] > 10)]\n",
    "print(action_games_high_sales)\n",
    "\n",
    "print(\"\\n2.2.3 คัดกรองเกมจาก 'Nintendo' หรือ 'Sony Computer Entertainment':\")\n",
    "major_publishers = ['Nintendo', 'Sony Computer Entertainment']\n",
    "nintendo_or_sony_games = df[df['Publisher'].isin(major_publishers)]\n",
    "print(nintendo_or_sony_games.head())\n",
    "\n",
    "#การเลือกด้วย .loc\n",
    "print(\"\\n2.3 ใช้ .loc เพื่อเลือกแนว index 100-105 และคอลัมน์ที่ระบุซ\")\n",
    "loc_selection = df.loc[100:105, ['Name', 'Genre', 'Publisher']]\n",
    "print(loc_selection)"
   ]
  }
 ],
 "metadata": {
  "kernelspec": {
   "display_name": "Python 3",
   "language": "python",
   "name": "python3"
  },
  "language_info": {
   "codemirror_mode": {
    "name": "ipython",
    "version": 3
   },
   "file_extension": ".py",
   "mimetype": "text/x-python",
   "name": "python",
   "nbconvert_exporter": "python",
   "pygments_lexer": "ipython3",
   "version": "3.13.5"
  }
 },
 "nbformat": 4,
 "nbformat_minor": 5
}
