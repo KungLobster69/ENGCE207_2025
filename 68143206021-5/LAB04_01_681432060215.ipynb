{
 "cells": [
  {
   "cell_type": "code",
   "execution_count": null,
   "id": "12810ccd",
   "metadata": {},
   "outputs": [],
   "source": [
    "import seaborn as sns\n",
    "import matplotlib.pyplot as plt\n",
    "\n",
    "#โหลดข้อมูล\n",
    "tips = sns.load_dataset('tips')"
   ]
  },
  {
   "cell_type": "code",
   "execution_count": null,
   "id": "a3c74bf7",
   "metadata": {},
   "outputs": [],
   "source": [
    "# ---กราฟที่1 การกระจายของยอดรวมใบเสร็จ ---\n",
    "plt.figure(figsize=(10,6))\n",
    "\n",
    "sns.histplot(data=tips, x='total_bill', kde=True)\n",
    "\n",
    "plt.title('Distribution of Total Bill')\n",
    "plt.show()"
   ]
  },
  {
   "cell_type": "code",
   "execution_count": null,
   "id": "fd075db9",
   "metadata": {},
   "outputs": [],
   "source": [
    "# --- กราฟที่ 2: จํานวนลูกค้าในแต่ละวัน ---\n",
    "plt.figure(figsize=(8,5))\n",
    "sns.countplot(data=tips, x='day', order=['Thur','Fri','Sat','Sun'])\n",
    "plt.title('Number of Customers Per Day')\n",
    "plt.show()"
   ]
  },
  {
   "cell_type": "code",
   "execution_count": null,
   "id": "0160c961",
   "metadata": {},
   "outputs": [],
   "source": [
    "# ---กราฟที่ 3 การกระจายตัวของเงินทิป ---\n",
    "plt.figure(figsize=(10, 6))\n",
    "sns.boxplot(data=tips, x='tip')\n",
    "plt.title(\"Distribution of Tip Amount\")\n",
    "plt.show()"
   ]
  }
 ],
 "metadata": {
  "kernelspec": {
   "display_name": "Python 3",
   "language": "python",
   "name": "python3"
  },
  "language_info": {
   "codemirror_mode": {
    "name": "ipython",
    "version": 3
   },
   "file_extension": ".py",
   "mimetype": "text/x-python",
   "name": "python",
   "nbconvert_exporter": "python",
   "pygments_lexer": "ipython3",
   "version": "3.13.5"
  }
 },
 "nbformat": 4,
 "nbformat_minor": 5
}
