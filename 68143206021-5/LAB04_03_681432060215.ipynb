{
 "cells": [
  {
   "cell_type": "code",
   "execution_count": 6,
   "id": "3f123cac",
   "metadata": {},
   "outputs": [],
   "source": [
    "import seaborn as sns\n",
    "import matplotlib.pyplot as plt\n",
    "\n",
    "titanic = sns.load_dataset('titanic')"
   ]
  },
  {
   "cell_type": "code",
   "execution_count": null,
   "id": "b43811ef",
   "metadata": {},
   "outputs": [],
   "source": [
    "# ---กราฟที่ 1: PairPlot\n",
    "subset = titanic[['survived','pclass','age','fare','sex']]\n",
    "sns.pairplot(subset, hue='survived', diag_kind='kde')\n",
    "plt.show()"
   ]
  },
  {
   "cell_type": "code",
   "execution_count": null,
   "id": "25331c47",
   "metadata": {},
   "outputs": [],
   "source": [
    "# ---กราฟที่ 3: Heatmap---\n",
    "titanic_corr = titanic.copy()\n",
    "titanic_corr['sex'] = titanic_corr['sex'].map({'make':0, 'female':1})\n",
    "corr_matrix = titanic_corr[['survived', 'pclass', 'age', 'fare', 'sex']].corr()\n",
    "\n",
    "plt.figure(figsize=(10,8))\n",
    "sns.heatmap(corr_matrix, annot=True, cmap='coolwarm', fmt='.2f')\n",
    "plt.title(\"Correlation Matrix of Titanic Features\")\n",
    "plt.show()"
   ]
  }
 ],
 "metadata": {
  "kernelspec": {
   "display_name": "Python 3",
   "language": "python",
   "name": "python3"
  },
  "language_info": {
   "codemirror_mode": {
    "name": "ipython",
    "version": 3
   },
   "file_extension": ".py",
   "mimetype": "text/x-python",
   "name": "python",
   "nbconvert_exporter": "python",
   "pygments_lexer": "ipython3",
   "version": "3.13.5"
  }
 },
 "nbformat": 4,
 "nbformat_minor": 5
}
