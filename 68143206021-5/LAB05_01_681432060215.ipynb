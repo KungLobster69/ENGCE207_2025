{
 "cells": [
  {
   "cell_type": "code",
   "execution_count": null,
   "id": "90b6024f",
   "metadata": {},
   "outputs": [],
   "source": [
    "import pandas as pd\n",
    "import numpy as np\n",
    "import matplotlib.pyplot as plt\n",
    "import seaborn as sns\n",
    "\n",
    "# import เครื่องมือจาก scikit-learn\n",
    "from sklearn.model_selection import train_test_split\n",
    "from sklearn.preprocessing import StandardScaler\n",
    "from sklearn.neighbors import KNeighborsClassifier\n",
    "from sklearn.metrics import classification_report, confusion_matrix"
   ]
  },
  {
   "cell_type": "code",
   "execution_count": null,
   "id": "8ea44915",
   "metadata": {},
   "outputs": [],
   "source": [
    "from sklearn.datasets import load_breast_cancer\n",
    "cancer = load_breast_cancer()\n",
    "\n",
    "df_cancer = pd.DataFrame(cancer.data, columns=cancer.feature_names)\n",
    "\n",
    "df_cancer['target'] = cancer.target\n",
    "print(df_cancer.head())"
   ]
  },
  {
   "cell_type": "code",
   "execution_count": null,
   "id": "2b1e71f1",
   "metadata": {},
   "outputs": [],
   "source": [
    "x_cancer = df_cancer.drop('target', axis=1)\n",
    "y_cancer = df_cancer['target']\n",
    "\n",
    "x_train_c, x_test_c, y_train_c, y_test_c = train_test_split(\n",
    "    x_cancer, y_cancer, test_size=0.3, random_state=101\n",
    ")\n",
    "print('Train set shape:', x_train_c.shape)\n",
    "print('Test set shape:', x_test_c.shape)"
   ]
  },
  {
   "cell_type": "code",
   "execution_count": null,
   "id": "88f1c9f4",
   "metadata": {},
   "outputs": [],
   "source": [
    "scaler_c = StandardScaler()\n",
    "\n",
    "x_train_c_scaled = scaler_c.fit_transform(x_train_c)\n",
    "\n",
    "x_test_c_scaled = scaler_c.transform(x_test_c)"
   ]
  },
  {
   "cell_type": "code",
   "execution_count": null,
   "id": "a354d30e",
   "metadata": {},
   "outputs": [],
   "source": [
    "knn_cancer = KNeighborsClassifier(n_neighbors=1)\n",
    "knn_cancer.fit(x_train_c_scaled, y_train_c)\n",
    "print('โมเดล K-NN ถูกฝึกฝนแล้ว')"
   ]
  },
  {
   "cell_type": "code",
   "execution_count": null,
   "id": "42794cc5",
   "metadata": {},
   "outputs": [],
   "source": [
    "predictions_c = knn_cancer.predict(x_test_c_scaled)\n",
    "print('Predictions:', predictions_c)"
   ]
  },
  {
   "cell_type": "code",
   "execution_count": null,
   "id": "c175e434",
   "metadata": {},
   "outputs": [],
   "source": [
    "print('Confusion Matrix:')\n",
    "cm = confusion_matrix(y_test_c, predictions_c)\n",
    "print(cm)\n",
    "\n",
    "report = classification_report(y_test_c, predictions_c, target_names=cancer.target_names)\n",
    "print(report)\n"
   ]
  },
  {
   "cell_type": "code",
   "execution_count": null,
   "id": "b915428e",
   "metadata": {},
   "outputs": [],
   "source": [
    "plt.figure(figsize=(8, 6))\n",
    "sns.heatmap(cm, annot=True,fmt='d', cmap='Blues',\n",
    "            xticklabels=cancer.target_names,\n",
    "            yticklabels=cancer.target_names)\n",
    "plt.title('confusion_matrix for Breast Cancer (k=1)')\n",
    "plt.xlabel('Predited Label')\n",
    "plt.ylabel('True Label')\n",
    "plt.show()"
   ]
  }
 ],
 "metadata": {
  "kernelspec": {
   "display_name": "Python 3",
   "language": "python",
   "name": "python3"
  },
  "language_info": {
   "codemirror_mode": {
    "name": "ipython",
    "version": 3
   },
   "file_extension": ".py",
   "mimetype": "text/x-python",
   "name": "python",
   "nbconvert_exporter": "python",
   "pygments_lexer": "ipython3",
   "version": "3.13.5"
  }
 },
 "nbformat": 4,
 "nbformat_minor": 5
}
