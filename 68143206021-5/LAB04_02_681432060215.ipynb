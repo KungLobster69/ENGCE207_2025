{
 "cells": [
  {
   "cell_type": "code",
   "execution_count": null,
   "id": "eb72a49b",
   "metadata": {},
   "outputs": [],
   "source": [
    "import seaborn as sns\n",
    "import matplotlib.pyplot as plt\n",
    "\n",
    "titanic = sns.load_dataset('titanic')"
   ]
  },
  {
   "cell_type": "code",
   "execution_count": null,
   "id": "a99926db",
   "metadata": {},
   "outputs": [],
   "source": [
    "# ---กราฟที่ 1: อายุ vs ค่าโดยสาร ---\n",
    "plt.figure(figsize=(10,6))\n",
    "sns.scatterplot(data=titanic, x='age', y='fare', hue='survived')\n",
    "plt.title('Reletionship between Age,Fare and Survival')\n",
    "plt.show()"
   ]
  },
  {
   "cell_type": "code",
   "execution_count": null,
   "id": "b3f02335",
   "metadata": {},
   "outputs": [],
   "source": [
    "# ---กราฟที่ 2: เพศ vs อัตราการรอดชีวิต ----\n",
    "plt.figure(figsize=(8,5))\n",
    "sns.barplot(data=titanic, x='sex', y='survived')\n",
    "plt.title('Survival Rate By Sex')\n",
    "plt.ylabel('survival Rate')\n",
    "plt.show()"
   ]
  },
  {
   "cell_type": "code",
   "execution_count": null,
   "id": "c2ae2d11",
   "metadata": {},
   "outputs": [],
   "source": [
    "# ---กราฟที่ 3: ชั้นโดยสาร vs อายุ---\n",
    "plt.figure(figsize=(10,6))\n",
    "sns.boxplot(data=titanic, x='pclass', y='age')\n",
    "plt.title('Age Distribution by Passenger Class')\n",
    "plt.show()"
   ]
  }
 ],
 "metadata": {
  "kernelspec": {
   "display_name": "Python 3",
   "language": "python",
   "name": "python3"
  },
  "language_info": {
   "codemirror_mode": {
    "name": "ipython",
    "version": 3
   },
   "file_extension": ".py",
   "mimetype": "text/x-python",
   "name": "python",
   "nbconvert_exporter": "python",
   "pygments_lexer": "ipython3",
   "version": "3.13.5"
  }
 },
 "nbformat": 4,
 "nbformat_minor": 5
}
