{
 "cells": [
  {
   "cell_type": "code",
   "execution_count": 1,
   "id": "ee62f077",
   "metadata": {},
   "outputs": [
    {
     "name": "stdout",
     "output_type": "stream",
     "text": [
      "\u0005.1 บันทึกข้อมูลที่จัดการแล้วลงในไฟล์ 'vgsales_cleaned.csv'\n"
     ]
    }
   ],
   "source": [
    "import pandas as pd\n",
    "import numpy as np\n",
    "\n",
    "df = pd.read_csv('vgsales.csv')\n",
    "\n",
    "#5.1 บันทึก DataFrame ที่จัดการแล้วลงไฟล์ CSV\n",
    "output_filename = 'vgsales_cleaned.csv'\n",
    "df.to_csv(output_filename, index=False)\n",
    "#index=False is important to avoid writing row indices in the file\n",
    "\n",
    "print(f\"\\5.1 บันทึกข้อมูลที่จัดการแล้วลงในไฟล์ '{output_filename}'\")\n",
    "#ends"
   ]
  }
 ],
 "metadata": {
  "kernelspec": {
   "display_name": "Python 3",
   "language": "python",
   "name": "python3"
  },
  "language_info": {
   "codemirror_mode": {
    "name": "ipython",
    "version": 3
   },
   "file_extension": ".py",
   "mimetype": "text/x-python",
   "name": "python",
   "nbconvert_exporter": "python",
   "pygments_lexer": "ipython3",
   "version": "3.13.5"
  }
 },
 "nbformat": 4,
 "nbformat_minor": 5
}
