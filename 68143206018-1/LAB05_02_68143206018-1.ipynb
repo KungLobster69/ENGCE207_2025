{
  "nbformat": 4,
  "nbformat_minor": 0,
  "metadata": {
    "colab": {
      "provenance": []
    },
    "kernelspec": {
      "name": "python3",
      "display_name": "Python 3"
    },
    "language_info": {
      "name": "python"
    }
  },
  "cells": [
    {
      "cell_type": "code",
      "metadata": {
        "colab": {
          "base_uri": "https://localhost:8080/"
        },
        "id": "35179f04",
        "outputId": "9ecfaefb-266c-42e2-cb6a-7c664c41cb4b"
      },
      "source": [
        "# คำสั่งที่ 1: โหลดและเตรียมข้อมูล\n",
        "import pandas as pd\n",
        "from sklearn.datasets import load_breast_cancer\n",
        "from sklearn.model_selection import train_test_split\n",
        "\n",
        "#โหลดขเอมูลของการวิจัยโรคมะเร็ง\n",
        "cancer = load_breast_cancer()\n",
        "\n",
        "#ตารางข้อมูลที่ใช้ค่าของ feature มาเป็นหัวข้อคอลัมน์\n",
        "cancer_df = pd.DataFrame(cancer.data, columns=cancer.feature_names)\n",
        "cancer_df['target'] = cancer.target\n",
        "\n",
        "#(x) ข้อมูลฟีเจอร์ทั้งหมด\n",
        "#(y)  ค่าผลลัพธ์ที่พยายามเดา\n",
        "X_cancer = cancer_df.drop('target', axis=1)\n",
        "y_cancer = cancer_df['target']\n",
        "\n",
        "#การแบ่งข้อมูลเป็น 70 - 30 (70 ฝึก) (30 ทบสอบ)\n",
        "X_train_c, X_test_c, y_train_c, y_test_c = train_test_split(X_cancer, y_cancer, test_size=0.3, random_state=101)\n",
        "\n",
        "#แสดงที่ถูกโหลดและแบ่งเรียบร้อย\n",
        "print(\"Data loaded and split successfully.\")\n",
        "print(\"X_train_c shape:\", X_train_c.shape)\n",
        "print(\"X_test_c shape:\", X_test_c.shape)\n",
        "print(\"y_train_c shape:\", y_train_c.shape)\n",
        "print(\"y_test_c shape:\", y_test_c.shape)"
      ],
      "execution_count": null,
      "outputs": [
        {
          "output_type": "stream",
          "name": "stdout",
          "text": [
            "Data loaded and split successfully.\n",
            "X_train_c shape: (398, 30)\n",
            "X_test_c shape: (171, 30)\n",
            "y_train_c shape: (398,)\n",
            "y_test_c shape: (171,)\n"
          ]
        }
      ]
    },
    {
      "cell_type": "code",
      "metadata": {
        "colab": {
          "base_uri": "https://localhost:8080/"
        },
        "id": "674c1f8b",
        "outputId": "4364f3aa-5269-457d-f9d5-6fc2e93c6a2e"
      },
      "source": [
        "# คำสั่งที่ 2: ทำ Scaling และสร้างโมเดล\n",
        "from sklearn.preprocessing import StandardScaler\n",
        "from sklearn.neighbors import KNeighborsClassifier\n",
        "\n",
        "#(train คือการ คำนวณค่าเฉลี่ย)\n",
        "#(test ใช้ค่าเดียวกับ train เพื่อทดสอบความถูกต้อง)\n",
        "scaler_c = StandardScaler()\n",
        "X_train_c_scaled = scaler_c.fit_transform(X_train_c)\n",
        "X_test_c_scaled = scaler_c.transform(X_test_c)\n",
        "\n",
        "#(n_neighbors=1) ให้ดูตัวอย่างที่ใกล้ที่สุดแค่ 1 ตัวอย่างเท่านั้น\n",
        "#(fit คือการคำนวณค่าเฉลี่ย)\n",
        "knn_cancer = KNeighborsClassifier(n_neighbors=1)\n",
        "knn_cancer.fit(X_train_c_scaled, y_train_c)\n",
        "\n",
        "print(\"Data scaled and model trained successfully.\")"
      ],
      "execution_count": null,
      "outputs": [
        {
          "output_type": "stream",
          "name": "stdout",
          "text": [
            "Data scaled and model trained successfully.\n"
          ]
        }
      ]
    },
    {
      "cell_type": "code",
      "metadata": {
        "colab": {
          "base_uri": "https://localhost:8080/"
        },
        "id": "e73b859e",
        "outputId": "9da3dd6d-fa48-46b5-92b9-1376cdb06d0f"
      },
      "source": [
        "# คำสั่งที่ 3: ประเมินผลโมเดล\n",
        "from sklearn.metrics import confusion_matrix, classification_report\n",
        "\n",
        "# เดาผลจากกโทเดล knn ที่เราฝึกไปแล้วจะใช้ (X_test_c_scaled) เป็น input เพื่อเดาข้ออยู่ในกลุ่มไหน\n",
        "y_pred_c = knn_cancer.predict(X_test_c_scaled)\n",
        "\n",
        "#ทำนายถูกว่าจริงเป็น benign (True Positive)\n",
        "#ทำนายถูกว่าจริงเป็น benign (True Positive)\n",
        "print(\"Confusion Matrix:\")\n",
        "print(confusion_matrix(y_test_c, y_pred_c))\n",
        "\n",
        "#บ่งบอกว่าโมเดลแม่นแค่ไหนในแต่ละ class\n",
        "print(\"\\nClassification Report:\")\n",
        "print(classification_report(y_test_c, y_pred_c))"
      ],
      "execution_count": null,
      "outputs": [
        {
          "output_type": "stream",
          "name": "stdout",
          "text": [
            "Confusion Matrix:\n",
            "[[ 61   5]\n",
            " [  3 102]]\n",
            "\n",
            "Classification Report:\n",
            "              precision    recall  f1-score   support\n",
            "\n",
            "           0       0.95      0.92      0.94        66\n",
            "           1       0.95      0.97      0.96       105\n",
            "\n",
            "    accuracy                           0.95       171\n",
            "   macro avg       0.95      0.95      0.95       171\n",
            "weighted avg       0.95      0.95      0.95       171\n",
            "\n"
          ]
        }
      ]
    }
  ]
}
