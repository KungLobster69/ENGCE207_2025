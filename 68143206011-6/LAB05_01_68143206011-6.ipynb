{
 "cells": [
  {
   "cell_type": "code",
   "execution_count": null,
   "id": "00d4c36a",
   "metadata": {},
   "outputs": [
    {
     "name": "stdout",
     "output_type": "stream",
     "text": [
      "Train set shape: (398, 30)\n",
      "Test set shape : (171, 30)\n"
     ]
    }
   ],
   "source": [
    "# 1. โหลดข้อมูล\n",
    "from sklearn.datasets import load_breast_cancer\n",
    "import pandas as pd\n",
    "from sklearn.model_selection import train_test_split\n",
    "\n",
    "cancer = load_breast_cancer()\n",
    "\n",
    "# 2. สร้าง DataFrame\n",
    "df_cancer = pd.DataFrame(cancer.data, columns=cancer.feature_names)\n",
    "\n",
    "# 3. แยก X และ y\n",
    "X_cancer = df_cancer\n",
    "y_cancer = cancer.target\n",
    "\n",
    "# 4. แบ่ง Train/Test Set\n",
    "X_train_c, X_test_c, y_train_c, y_test_c = train_test_split(\n",
    "    X_cancer, y_cancer, test_size=0.3, random_state=101\n",
    ")\n",
    "\n",
    "print(\"Train set shape:\", X_train_c.shape)\n",
    "print(\"Test set shape :\", X_test_c.shape)\n"
   ]
  },
  {
   "cell_type": "code",
   "execution_count": 2,
   "id": "7e8e92f7",
   "metadata": {},
   "outputs": [
    {
     "name": "stdout",
     "output_type": "stream",
     "text": [
      "โมเดล k-NN (k=1) ถูกฝึกเรียบร้อยแล้ว\n"
     ]
    }
   ],
   "source": [
    "# 5. ทำ Feature Scaling\n",
    "from sklearn.preprocessing import StandardScaler\n",
    "\n",
    "scaler_c = StandardScaler()\n",
    "X_train_c_scaled = scaler_c.fit_transform(X_train_c)\n",
    "X_test_c_scaled  = scaler_c.transform(X_test_c)\n",
    "\n",
    "# 6. สร้างและฝึกฝนโมเดล k-NN (k=1)\n",
    "from sklearn.neighbors import KNeighborsClassifier\n",
    "\n",
    "knn_cancer = KNeighborsClassifier(n_neighbors=1)\n",
    "knn_cancer.fit(X_train_c_scaled, y_train_c)\n",
    "\n",
    "print(\"โมเดล k-NN (k=1) ถูกฝึกเรียบร้อยแล้ว\")\n"
   ]
  },
  {
   "cell_type": "code",
   "execution_count": 3,
   "id": "e2e0a666",
   "metadata": {},
   "outputs": [
    {
     "name": "stdout",
     "output_type": "stream",
     "text": [
      "--- ผลลัพธ์สำหรับ k=1 ---\n",
      "Confusion Matrix:\n",
      "[[71  5]\n",
      " [ 5 90]]\n",
      "\n",
      "Classification Report:\n",
      "              precision    recall  f1-score   support\n",
      "\n",
      "   malignant       0.93      0.93      0.93        76\n",
      "      benign       0.95      0.95      0.95        95\n",
      "\n",
      "    accuracy                           0.94       171\n",
      "   macro avg       0.94      0.94      0.94       171\n",
      "weighted avg       0.94      0.94      0.94       171\n",
      "\n"
     ]
    }
   ],
   "source": [
    "# 7. ทำนายผล\n",
    "predictions_c = knn_cancer.predict(X_test_c_scaled)\n",
    "\n",
    "# 8. สรุปผลลัพธ์\n",
    "from sklearn.metrics import confusion_matrix, classification_report\n",
    "\n",
    "print(\"--- ผลลัพธ์สำหรับ k=1 ---\")\n",
    "print(\"Confusion Matrix:\")\n",
    "print(confusion_matrix(y_test_c, predictions_c))\n",
    "print(\"\\nClassification Report:\")\n",
    "print(classification_report(y_test_c, predictions_c, target_names=['malignant','benign']))\n"
   ]
  }
 ],
 "metadata": {
  "kernelspec": {
   "display_name": ".venv",
   "language": "python",
   "name": "python3"
  },
  "language_info": {
   "codemirror_mode": {
    "name": "ipython",
    "version": 3
   },
   "file_extension": ".py",
   "mimetype": "text/x-python",
   "name": "python",
   "nbconvert_exporter": "python",
   "pygments_lexer": "ipython3",
   "version": "3.13.5"
  }
 },
 "nbformat": 4,
 "nbformat_minor": 5
}
