{
 "cells": [
  {
   "cell_type": "code",
   "execution_count": null,
   "id": "c7ba3c1b",
   "metadata": {},
   "outputs": [
    {
     "name": "stdout",
     "output_type": "stream",
     "text": [
      "\n",
      "--- ส่วนที่ 3: การจัดการข้อมูลที่ขาดหาย (Handling Missing Values) ---\n",
      "\n",
      "1. ตรวจสอบข้อมูลที่ขาดหาย:\n",
      "Rank              0\n",
      "Name              0\n",
      "Platform          0\n",
      "Year            271\n",
      "Genre             0\n",
      "Publisher        58\n",
      "NA_Sales          0\n",
      "EU_Sales          0\n",
      "JP_Sales          0\n",
      "Other_Sales       0\n",
      "Global_Sales      0\n",
      "dtype: int64\n",
      "\n",
      "2. จัดการข้อมูล 'Year':\n",
      "-> ลบแถวที่มีค่า 'Year' ว่างเรียบร้อยแล้ว\n",
      "\n",
      "3. จัดการข้อมูล 'Publisher':\n",
      "-> แทนค่าที่ขาดหายใน 'Publisher' ด้วย 'Unknown' แล้ว\n",
      "\n",
      "4. ตรวจสอบผลลัพธ์หลังจากจัดการข้อมูลที่ขาดหาย:\n",
      "Rank            0\n",
      "Name            0\n",
      "Platform        0\n",
      "Year            0\n",
      "Genre           0\n",
      "Publisher       0\n",
      "NA_Sales        0\n",
      "EU_Sales        0\n",
      "JP_Sales        0\n",
      "Other_Sales     0\n",
      "Global_Sales    0\n",
      "dtype: int64\n",
      "(ไม่มีข้อมูลที่ขาดหายแล้ว)\n",
      "\n",
      "-- สิ้นสุดส่วนที่ 3 --\n",
      "--------------------------------------------------\n",
      "\n"
     ]
    },
    {
     "name": "stderr",
     "output_type": "stream",
     "text": [
      "C:\\Users\\KNS\\AppData\\Local\\Temp\\ipykernel_48412\\1937227605.py:20: FutureWarning: A value is trying to be set on a copy of a DataFrame or Series through chained assignment using an inplace method.\n",
      "The behavior will change in pandas 3.0. This inplace method will never work because the intermediate object on which we are setting values always behaves as a copy.\n",
      "\n",
      "For example, when doing 'df[col].method(value, inplace=True)', try using 'df.method({col: value}, inplace=True)' or df[col] = df[col].method(value) instead, to perform the operation inplace on the original object.\n",
      "\n",
      "\n",
      "  df['Publisher'].fillna('Unknown', inplace=True)\n"
     ]
    }
   ],
   "source": [
    "import pandas as pd\n",
    "import numpy as np\n",
    "\n",
    "# อ่านไฟล์ CSV\n",
    "df = pd.read_csv('vgsales.csv')\n",
    "\n",
    "print(\"\\n--- ส่วนที่ 3: การจัดการข้อมูลที่ขาดหาย ---\")\n",
    "\n",
    "# 3.1 ตรวจสอบข้อมูลที่ขาดหาย\n",
    "print(\"\\n3.1 จำนวนข้อมูลที่ขาดหายแต่ละคอลัมน์ (ก่อนจัดการ):\")\n",
    "print(df.isnull().sum())\n",
    "\n",
    "# 3.2 จัดการข้อมูล 'Year'\n",
    "print(\"\\n3.2 ลบแถวข้อมูลที่คอลัมน์ 'Year' มีค่าว่าง:\")\n",
    "df.dropna(subset=['Year'], inplace=True)\n",
    "# print(\"-> ลบแถวที่มีค่า 'Year' ว่างเรียบร้อยแล้ว\")\n",
    "\n",
    "# 3.3 จัดการข้อมูล 'Publisher'\n",
    "print(\"\\n3.3 แทนที่ค่าว่างใน 'Publisher' ด้วย 'Unknown':\")\n",
    "df['Publisher'].fillna('Unknown', inplace=True)\n",
    "# print(\"-> แทนค่าที่ขาดหายใน 'Publisher' ด้วย 'Unknown' แล้ว\")\n",
    "\n",
    "# 3.4 ตรวจสอบผลลัพธ์\n",
    "print(\"\\n3.4 จำนวนข้อมูลที่ขาดหายในแต่ละคอลัมน์ (หลังจัดการ):\")\n",
    "print(df.isnull().sum())\n",
    "print(\"จัดการข้อมูลที่ขาดหายเรียบร้อยแล้ว\")\n",
    "\n",
    "print(\"\\n-- สิ้นสุดส่วนที่ 3 --\\n\" + \"-\"*50 + \"\\n\")\n"
   ]
  }
 ],
 "metadata": {
  "kernelspec": {
   "display_name": ".venv",
   "language": "python",
   "name": "python3"
  },
  "language_info": {
   "codemirror_mode": {
    "name": "ipython",
    "version": 3
   },
   "file_extension": ".py",
   "mimetype": "text/x-python",
   "name": "python",
   "nbconvert_exporter": "python",
   "pygments_lexer": "ipython3",
   "version": "3.13.5"
  }
 },
 "nbformat": 4,
 "nbformat_minor": 5
}
