{
 "cells": [
  {
   "cell_type": "code",
   "execution_count": 3,
   "id": "c94856fe",
   "metadata": {},
   "outputs": [
    {
     "name": "stdout",
     "output_type": "stream",
     "text": [
      "--- ส่วนที 5: การบันทึกข้อมูล ---\n",
      "\n",
      "5.1 บันทึกข้อมูลที่จัดการเรียบร้อยแล้วลงในไฟล์ 'vgsales_cleaned.csv\n",
      "\n",
      "--- สิ้นสุดการปฎิบัติการ ---\n"
     ]
    }
   ],
   "source": [
    "import pandas as pd\n",
    "import numpy as np\n",
    "\n",
    "df = pd.read_csv('vgsales.csv')\n",
    "# ================================================================\n",
    "# ส่วนที่ 5: การบันทึกข้อมูล (Writing Data)\n",
    "# ================================================================\n",
    "print(\"--- ส่วนที 5: การบันทึกข้อมูล ---\")\n",
    "\n",
    "# 5.1 บันทึก DataFrame ที่จัดการแล้วลงไฟล์ csv\n",
    "output_filename = 'vgsales_cleaned.csv'\n",
    "df.to_csv(output_filename, index=False)\n",
    "# index=false is important to avoid writing row indices into the file\n",
    "\n",
    "print(f\"\\n5.1 บันทึกข้อมูลที่จัดการเรียบร้อยแล้วลงในไฟล์ '{output_filename}\")\n",
    "\n",
    "print(\"\\n--- สิ้นสุดการปฎิบัติการ ---\")"
   ]
  }
 ],
 "metadata": {
  "kernelspec": {
   "display_name": ".venv",
   "language": "python",
   "name": "python3"
  },
  "language_info": {
   "codemirror_mode": {
    "name": "ipython",
    "version": 3
   },
   "file_extension": ".py",
   "mimetype": "text/x-python",
   "name": "python",
   "nbconvert_exporter": "python",
   "pygments_lexer": "ipython3",
   "version": "3.13.5"
  }
 },
 "nbformat": 4,
 "nbformat_minor": 5
}
