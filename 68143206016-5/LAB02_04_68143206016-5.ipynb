{
 "cells": [
  {
   "cell_type": "code",
   "execution_count": 12,
   "id": "b5de4740",
   "metadata": {},
   "outputs": [
    {
     "name": "stdout",
     "output_type": "stream",
     "text": [
      "                       Name  NA_Sales  EU_Sales  Other_Sales  Sales_Outside_JP\n",
      "0                Wii Sports     41.49     29.02         8.46             78.97\n",
      "1         Super Mario Bros.     29.08      3.58         0.77             33.43\n",
      "2            Mario Kart Wii     15.85     12.88         3.31             32.04\n",
      "3         Wii Sports Resort     15.75     11.01         2.96             29.72\n",
      "4  Pokemon Red/Pokemon Blue     11.27      8.89         1.00             21.16\n",
      "\n",
      "\n",
      "                       Name  Year Release_Decade\n",
      "0                Wii Sports  2006          2000s\n",
      "1         Super Mario Bros.  1985          1980s\n",
      "2            Mario Kart Wii  2008          2000s\n",
      "3         Wii Sports Resort  2009          2000s\n",
      "4  Pokemon Red/Pokemon Blue  1996          1990s\n"
     ]
    }
   ],
   "source": [
    "import pandas as pd\n",
    "import numpy as np\n",
    "\n",
    "df = pd.read_csv('vgsales.csv')\n",
    "df_sorted = df.sort_values(by='Global_Sales', ascending=False)\n",
    "df['Sales_Outside_JP'] = df['NA_Sales'] + df['EU_Sales'] + df['Other_Sales']\n",
    "df['Sales_Outside_JP'] = df['NA_Sales'] + df['EU_Sales'] + df['Other_Sales']\n",
    "print(df[['Name', 'NA_Sales', 'EU_Sales', 'Other_Sales', 'Sales_Outside_JP']].head())\n",
    "df = df.dropna(subset=['Year'])\n",
    "df['Year'] = df['Year'].astype(int)\n",
    "\n",
    "def find_decade(year):\n",
    "    if 1980 <= year < 1990:\n",
    "        return '1980s'\n",
    "    elif 1990 <= year < 2000:\n",
    "        return '1990s'\n",
    "    elif 2000 <= year < 2010:\n",
    "        return '2000s'\n",
    "    else:\n",
    "        return '2010s_and_later'\n",
    "\n",
    "df['Release_Decade'] = df['Year'].apply(find_decade)\n",
    "print(\"\\n\")\n",
    "print(df[['Name', 'Year', 'Release_Decade']].head())"
   ]
  }
 ],
 "metadata": {
  "kernelspec": {
   "display_name": ".venv",
   "language": "python",
   "name": "python3"
  },
  "language_info": {
   "codemirror_mode": {
    "name": "ipython",
    "version": 3
   },
   "file_extension": ".py",
   "mimetype": "text/x-python",
   "name": "python",
   "nbconvert_exporter": "python",
   "pygments_lexer": "ipython3",
   "version": "3.13.5"
  }
 },
 "nbformat": 4,
 "nbformat_minor": 5
}
