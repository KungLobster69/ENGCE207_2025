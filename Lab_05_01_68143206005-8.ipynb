{
 "cells": [
  {
   "cell_type": "code",
   "execution_count": 4,
   "id": "9b80e52f",
   "metadata": {},
   "outputs": [
    {
     "name": "stdout",
     "output_type": "stream",
     "text": [
      "ข้อมูลถูกโหลดและแบ่งเรียบร้อยแล้ว\n",
      "ขนาดของ X_train: (398, 30)\n",
      "ขนาดของ X_test: (171, 30)\n",
      "ขนาดของ y_train: (398,)\n",
      "ขนาดของ y_test: (171,)\n"
     ]
    }
   ],
   "source": [
    "from sklearn.datasets import load_breast_cancer\n",
    "import pandas as pd\n",
    "from sklearn.model_selection import train_test_split\n",
    "\n",
    "# โหลดข้อมูลมะเร็งเต้านมจาก sklearn\n",
    "cancer_data = load_breast_cancer()\n",
    "\n",
    "# สร้าง DataFrame จากข้อมูล\n",
    "df_cancer = pd.DataFrame(data=cancer_data.data, columns=cancer_data.feature_names)\n",
    "\n",
    "# แยก features และ target   #ค่าคุณสมบัติต่าง ๆ ของก้อนเนื้อ เช่น ขนาด รัศมี ความเรียบ\n",
    "X_cancer = cancer_data.data\n",
    "y_cancer = cancer_data.target\n",
    "\n",
    "# แบ่งข้อมูลเป็น train และ test set #ขนาดของก้อนเนื้อ\n",
    "X_train, X_test, y_train, y_test = train_test_split(X_cancer, y_cancer, test_size=0.3, random_state=101)\n",
    "\n",
    "# แสดงผลลัพธ์เบื้องต้น\n",
    "print(\"ข้อมูลถูกโหลดและแบ่งเรียบร้อยแล้ว\")\n",
    "print(\"ขนาดของ X_train:\", X_train.shape)\n",
    "print(\"ขนาดของ X_test:\", X_test.shape)\n",
    "print(\"ขนาดของ y_train:\", y_train.shape)\n",
    "print(\"ขนาดของ y_test:\", y_test.shape)\n",
    "\n",
    "\n"
   ]
  },
  {
   "cell_type": "code",
   "execution_count": 5,
   "id": "a644d618",
   "metadata": {},
   "outputs": [
    {
     "name": "stdout",
     "output_type": "stream",
     "text": [
      "โมเดล KNeighborsClassifier ถูกฝึกฝนเรียบร้อยแล้วด้วย n_neighbors=1\n"
     ]
    }
   ],
   "source": [
    "from sklearn.datasets import load_breast_cancer\n",
    "from sklearn.model_selection import train_test_split\n",
    "from sklearn.preprocessing import StandardScaler\n",
    "from sklearn.neighbors import KNeighborsClassifier\n",
    "import pandas as pd\n",
    "\n",
    "# โหลดข้อมูลมะเร็งเต้านม\n",
    "cancer_data = load_breast_cancer()\n",
    "\n",
    "# สร้าง DataFrame จากข้อมูล\n",
    "df_cancer = pd.DataFrame(data=cancer_data.data, columns=cancer_data.feature_names)\n",
    "\n",
    "# แยก features และ target\n",
    "X_cancer = cancer_data.data\n",
    "y_cancer = cancer_data.target\n",
    "\n",
    "# แบ่งข้อมูลเป็น train และ test set\n",
    "X_train, X_test, y_train, y_test = train_test_split(X_cancer, y_cancer, test_size=0.3, random_state=101)\n",
    "\n",
    "# ทำ Feature Scaling ด้วย StandardScaler\n",
    "scaler = StandardScaler()\n",
    "X_train_scaled = scaler.fit_transform(X_train)\n",
    "X_test_scaled = scaler.transform(X_test)\n",
    "\n",
    "# สร้างและฝึกฝนโมเดล KNeighborsClassifier โดยกำหนด n_neighbors=1\n",
    "knn_model = KNeighborsClassifier(n_neighbors=1)\n",
    "knn_model.fit(X_train_scaled, y_train)\n",
    "\n",
    "print(\"โมเดล KNeighborsClassifier ถูกฝึกฝนเรียบร้อยแล้วด้วย n_neighbors=1\")\n"
   ]
  },
  {
   "cell_type": "code",
   "execution_count": null,
   "id": "7d840dd5",
   "metadata": {},
   "outputs": [
    {
     "name": "stdout",
     "output_type": "stream",
     "text": [
      "Confusion Matrix:\n",
      "[[ 59   7]\n",
      " [  1 104]]\n",
      "\n",
      "Classification Report:\n",
      "              precision    recall  f1-score   support\n",
      "\n",
      "           0       0.98      0.89      0.94        66\n",
      "           1       0.94      0.99      0.96       105\n",
      "\n",
      "    accuracy                           0.95       171\n",
      "   macro avg       0.96      0.94      0.95       171\n",
      "weighted avg       0.95      0.95      0.95       171\n",
      "\n"
     ]
    }
   ],
   "source": [
    "#ประเมินผล\n",
    "from sklearn.datasets import load_breast_cancer\n",
    "from sklearn.model_selection import train_test_split\n",
    "from sklearn.preprocessing import StandardScaler\n",
    "from sklearn.neighbors import KNeighborsClassifier\n",
    "from sklearn.metrics import confusion_matrix, classification_report\n",
    "\n",
    "# โหลดข้อมูล\n",
    "data = load_breast_cancer()\n",
    "X, y = data.data, data.target\n",
    "\n",
    "# แบ่งข้อมูล\n",
    "X_train, X_test, y_train, y_test = train_test_split(X, y, test_size=0.3, random_state=101)\n",
    "\n",
    "# สเกลข้อมูล\n",
    "scaler = StandardScaler()\n",
    "X_train_c_scaled = scaler.fit_transform(X_train)\n",
    "X_test_c_scaled = scaler.transform(X_test)\n",
    "\n",
    "# สร้างและเทรนโมเดล\n",
    "knn_cancer = KNeighborsClassifier(n_neighbors=3)\n",
    "knn_cancer.fit(X_train_c_scaled, y_train)\n",
    "\n",
    "# ทำนายผลจากชุดทดสอบ\n",
    "y_pred = knn_cancer.predict(X_test_c_scaled)\n",
    "\n",
    "# ประเมินผลโมเดล\n",
    "conf_matrix = confusion_matrix(y_test, y_pred)\n",
    "class_report = classification_report(y_test, y_pred)\n",
    "\n",
    "#0 = มะเร็งระยะลุกลาม (Malignant)\n",
    "#1 = มะเร็งระยะเริ่มต้น (Benign)\n",
    "\n",
    "#FN = กรณีที่โมเดล ทำนายว่าเป็นมะเร็งระยะเริ่มต้น (ไม่ร้ายแรง)\n",
    "#แต่ความจริงคือผู้ป่วย เป็นมะเร็งระยะลุกลาม (ร้ายแรง) ทายผิด\n",
    "\n",
    "#โมเดลสามารถทำนายได้ถูกต้อง 95 ตัวอย่าง จากทั้งหมด 100\n",
    "#accuracy = 0.95 → โมเดลทำนายถูกต้องรวมกันทั้งหมด 95% ของกรณี\n",
    "\n",
    "#macro avg = 0.94 → ค่าเฉลี่ยของ precision/recall/f1 โดยไม่สนว่าข้อมูลแต่ละคลาสมีจำนวนไม่เท่ากัน\n",
    "\n",
    "#weighted avg = 0.95 → ค่าเฉลี่ยที่ถ่วงตามจำนวนข้อมูลของแต่ละคลาส\n",
    "\n",
    "\n",
    "# แสดงผลลัพธ์\n",
    "print(\"Confusion Matrix:\")\n",
    "print(conf_matrix)\n",
    "print(\"\\nClassification Report:\")\n",
    "print(class_report)\n"
   ]
  }
 ],
 "metadata": {
  "kernelspec": {
   "display_name": ".venv",
   "language": "python",
   "name": "python3"
  },
  "language_info": {
   "codemirror_mode": {
    "name": "ipython",
    "version": 3
   },
   "file_extension": ".py",
   "mimetype": "text/x-python",
   "name": "python",
   "nbconvert_exporter": "python",
   "pygments_lexer": "ipython3",
   "version": "3.13.5"
  }
 },
 "nbformat": 4,
 "nbformat_minor": 5
}
