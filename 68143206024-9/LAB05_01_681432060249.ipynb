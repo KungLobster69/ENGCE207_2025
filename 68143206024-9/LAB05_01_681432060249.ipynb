{
 "cells": [
  {
   "cell_type": "code",
   "execution_count": 24,
   "id": "7661211d",
   "metadata": {},
   "outputs": [
    {
     "name": "stdout",
     "output_type": "stream",
     "text": [
      "train shape: (398, 30), test shape: (171, 30)\n",
      "   mean radius  mean texture  mean perimeter  mean area  mean smoothness  \\\n",
      "0        17.99         10.38          122.80     1001.0          0.11840   \n",
      "1        20.57         17.77          132.90     1326.0          0.08474   \n",
      "2        19.69         21.25          130.00     1203.0          0.10960   \n",
      "3        11.42         20.38           77.58      386.1          0.14250   \n",
      "4        20.29         14.34          135.10     1297.0          0.10030   \n",
      "\n",
      "   mean compactness  mean concavity  mean concave points  mean symmetry  \\\n",
      "0           0.27760          0.3001              0.14710         0.2419   \n",
      "1           0.07864          0.0869              0.07017         0.1812   \n",
      "2           0.15990          0.1974              0.12790         0.2069   \n",
      "3           0.28390          0.2414              0.10520         0.2597   \n",
      "4           0.13280          0.1980              0.10430         0.1809   \n",
      "\n",
      "   mean fractal dimension  ...  worst texture  worst perimeter  worst area  \\\n",
      "0                 0.07871  ...          17.33           184.60      2019.0   \n",
      "1                 0.05667  ...          23.41           158.80      1956.0   \n",
      "2                 0.05999  ...          25.53           152.50      1709.0   \n",
      "3                 0.09744  ...          26.50            98.87       567.7   \n",
      "4                 0.05883  ...          16.67           152.20      1575.0   \n",
      "\n",
      "   worst smoothness  worst compactness  worst concavity  worst concave points  \\\n",
      "0            0.1622             0.6656           0.7119                0.2654   \n",
      "1            0.1238             0.1866           0.2416                0.1860   \n",
      "2            0.1444             0.4245           0.4504                0.2430   \n",
      "3            0.2098             0.8663           0.6869                0.2575   \n",
      "4            0.1374             0.2050           0.4000                0.1625   \n",
      "\n",
      "   worst symmetry  worst fractal dimension  target  \n",
      "0          0.4601                  0.11890       0  \n",
      "1          0.2750                  0.08902       0  \n",
      "2          0.3613                  0.08758       0  \n",
      "3          0.6638                  0.17300       0  \n",
      "4          0.2364                  0.07678       0  \n",
      "\n",
      "[5 rows x 31 columns]\n",
      "train Shape: (398, 30), test Shape: (171, 30)\n"
     ]
    }
   ],
   "source": [
    "# ดึงข้อมูล (import) จาก [pandas] and [numpy] โดยใช้หลักการเดียวกันเช่น import pandas as pd , import numpy as np\n",
    "import pandas as pd\n",
    "import numpy as np\n",
    "import matplotlib.pyplot as plt\n",
    "import seaborn as sns\n",
    "\n",
    "# โหลดข้อมูลจาก [L.B.C ( load_breat_cancer)] เพื่อดึงข้อมูลสำหรับการแสดงผลที่ต้องการ\n",
    "from sklearn.datasets import load_breast_cancer\n",
    "from sklearn.model_selection import train_test_split\n",
    "from sklearn.preprocessing import StandardScaler\n",
    "from sklearn.neighbors import KNeighborsClassifier\n",
    "from sklearn.metrics import classification_report, confusion_matrix\n",
    "\n",
    "# โหลดข้อมูล Data Breast Cancer เพื่อแปลงข้อมูลที่ดาวโหลดมา\n",
    "cancer_data = load_breast_cancer()\n",
    "df_cancer = pd.DataFrame(data=cancer_data.data, columns=cancer_data.feature_names)\n",
    "df_cancer['target'] = cancer_data.target\n",
    "\n",
    "# แยก x และ y เพื่อแบ่งเก็บข้อมูลและข้อมูล [x]target and [y]terget\n",
    "# x_cancer เก็บข้อมูล [x]feature\n",
    "# x_cancer เก็บข้อมูล [x]target\n",
    "# y_cancer เก็บข้อมูล [y]terget\n",
    "x_cancer = df_cancer.drop('target', axis=1)\n",
    "y_cancer = df_cancer\n",
    "\n",
    "# แบ่งข้อมูล Train/Test (\"[x_train (x_train) , x_test (x_test)] , [y_train (y_train) , y_test (y_test)]\"\")\n",
    "x_train, x_test, y_train, y_test = train_test_split(x_cancer, y_cancer, test_size=0.3, random_state=101)\n",
    "\n",
    "# แสดงผลข้อมูลของ [train shape] and [test shape]\n",
    "print(f\"train shape: {x_train.shape}, test shape: {x_test.shape}\")\n",
    "\n",
    "# แสดงผลข้อมูลที่ต้องการจะทราบของ [L.B.C ( load_breat_cancer)] เพื่อดึงข้อมูลสำหรับการแสดงผลที่ต้องการ\n",
    "print(df_cancer.head())\n",
    "\n",
    "x_cancer = df_cancer.drop('target', axis=1)\n",
    "y_cancer = df_cancer['target']\n",
    "\n",
    "x_train, x_test, y_train, y_test = train_test_split(x_cancer, y_cancer, test_size=0.3, random_state=101)\n",
    "\n",
    "scaler_c = StandardScaler()\n",
    "x_train_c_scaled = scaler_c.fit_transform(x_train)\n",
    "x_test_c_scaled = scaler_c.transform(x_test)\n",
    "\n",
    "knn_cancer = KNeighborsClassifier(n_neighbors=1)\n",
    "knn_cancer.fit(x_train_c_scaled, y_train)\n",
    "\n",
    "print(f\"train Shape: {x_train.shape}, test Shape: {x_test.shape}\")"
   ]
  },
  {
   "cell_type": "code",
   "execution_count": null,
   "id": "050de6ac",
   "metadata": {},
   "outputs": [
    {
     "name": "stdout",
     "output_type": "stream",
     "text": [
      "train Shape: (398, 30), test Shape: (171, 30)\n"
     ]
    }
   ],
   "source": [
    "x_cancer = df_cancer.drop('target', axis=1)\n",
    "y_cancer = df_cancer['target']\n",
    "\n",
    "x_train, x_test, y_train, y_test = train_test_split(x_cancer, y_cancer, test_size=0.3, random_state=101)\n",
    "\n",
    "scaler_c = StandardScaler()\n",
    "x_train_c_scaled = scaler_c.fit_transform(x_train)\n",
    "x_test_c_scaled = scaler_c.transform(x_test)\n",
    "\n",
    "knn_cancer = KNeighborsClassifier(n_neighbors=1)\n",
    "knn_cancer.fit(x_train_c_scaled, y_train)\n",
    "\n",
    "print(f\"train Shape: {x_train.shape}, test Shape: {x_test.shape}\")"
   ]
  },
  {
   "cell_type": "code",
   "execution_count": null,
   "id": "6ca16535",
   "metadata": {},
   "outputs": [
    {
     "name": "stdout",
     "output_type": "stream",
     "text": [
      "Confusion Matrix:\n",
      "[[ 61   5]\n",
      " [  3 102]]\n",
      "\n",
      "Classification Report:\n",
      "              precision    recall  f1-score   support\n",
      "\n",
      "           0       0.95      0.92      0.94        66\n",
      "           1       0.95      0.97      0.96       105\n",
      "\n",
      "    accuracy                           0.95       171\n",
      "   macro avg       0.95      0.95      0.95       171\n",
      "weighted avg       0.95      0.95      0.95       171\n",
      "\n"
     ]
    }
   ],
   "source": [
    "from sklearn.metrics import confusion_matrix, classification_report\n",
    "\n",
    "y_pred_c = knn_cancer.predict(x_test_c_scaled)\n",
    "\n",
    "print(\"Confusion Matrix:\")\n",
    "print(confusion_matrix(y_test, y_pred_c))\n",
    "\n",
    "print(\"\\nClassification Report:\")\n",
    "print(classification_report(y_test, y_pred_c))"
   ]
  }
 ],
 "metadata": {
  "kernelspec": {
   "display_name": ".venv",
   "language": "python",
   "name": "python3"
  },
  "language_info": {
   "codemirror_mode": {
    "name": "ipython",
    "version": 3
   },
   "file_extension": ".py",
   "mimetype": "text/x-python",
   "name": "python",
   "nbconvert_exporter": "python",
   "pygments_lexer": "ipython3",
   "version": "3.13.5"
  }
 },
 "nbformat": 4,
 "nbformat_minor": 5
}
