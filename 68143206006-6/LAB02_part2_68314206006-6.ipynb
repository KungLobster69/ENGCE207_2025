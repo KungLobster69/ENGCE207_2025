{
 "cells": [
  {
   "cell_type": "code",
   "execution_count": 20,
   "id": "c9fc85de",
   "metadata": {},
   "outputs": [],
   "source": [
    "import pandas as pd\n",
    "import numpy as np"
   ]
  },
  {
   "cell_type": "code",
   "execution_count": 21,
   "id": "d8d63764",
   "metadata": {},
   "outputs": [
    {
     "name": "stdout",
     "output_type": "stream",
     "text": [
      "\n",
      " 2.1\n",
      "                       Name Platform    Year  Global_Sales\n",
      "0                Wii Sports      Wii  2006.0         82.74\n",
      "1         Super Mario Bros.      NES  1985.0         40.24\n",
      "2            Mario Kart Wii      Wii  2008.0         35.82\n",
      "3         Wii Sports Resort      Wii  2009.0         33.00\n",
      "4  Pokemon Red/Pokemon Blue       GB  1996.0         31.37\n"
     ]
    }
   ],
   "source": [
    "print(\"\\n 2.1\")\n",
    "df = pd.read_csv('vgsales.csv')\n",
    "selected_columns = df[['Name', 'Platform', 'Year', 'Global_Sales']]\n",
    "print(selected_columns.head())"
   ]
  },
  {
   "cell_type": "code",
   "execution_count": 22,
   "id": "95d5a9ae",
   "metadata": {},
   "outputs": [
    {
     "name": "stdout",
     "output_type": "stream",
     "text": [
      "\n",
      " 2.2.1\n",
      "   Rank                       Name Platform    Year     Genre Publisher  \\\n",
      "0     1                 Wii Sports      Wii  2006.0    Sports  Nintendo   \n",
      "2     3             Mario Kart Wii      Wii  2008.0    Racing  Nintendo   \n",
      "3     4          Wii Sports Resort      Wii  2009.0    Sports  Nintendo   \n",
      "7     8                   Wii Play      Wii  2006.0      Misc  Nintendo   \n",
      "8     9  New Super Mario Bros. Wii      Wii  2009.0  Platform  Nintendo   \n",
      "\n",
      "   NA_Sales  EU_Sales  JP_Sales  Other_Sales  Global_Sales  \n",
      "0     41.49     29.02      3.77         8.46         82.74  \n",
      "2     15.85     12.88      3.79         3.31         35.82  \n",
      "3     15.75     11.01      3.28         2.96         33.00  \n",
      "7     14.03      9.20      2.93         2.85         29.02  \n",
      "8     14.59      7.06      4.70         2.26         28.62  \n"
     ]
    }
   ],
   "source": [
    "print(\"\\n 2.2.1\")\n",
    "wii_games = df[df['Platform'] == 'Wii']\n",
    "print(wii_games.head())"
   ]
  },
  {
   "cell_type": "code",
   "execution_count": 23,
   "id": "8606d131",
   "metadata": {},
   "outputs": [
    {
     "name": "stdout",
     "output_type": "stream",
     "text": [
      "\n",
      " 2.2.2\n",
      "   Rank                       Name Platform    Year     Genre Publisher  \\\n",
      "0     1                 Wii Sports      Wii  2006.0    Sports  Nintendo   \n",
      "2     3             Mario Kart Wii      Wii  2008.0    Racing  Nintendo   \n",
      "3     4          Wii Sports Resort      Wii  2009.0    Sports  Nintendo   \n",
      "7     8                   Wii Play      Wii  2006.0      Misc  Nintendo   \n",
      "8     9  New Super Mario Bros. Wii      Wii  2009.0  Platform  Nintendo   \n",
      "\n",
      "   NA_Sales  EU_Sales  JP_Sales  Other_Sales  Global_Sales  \n",
      "0     41.49     29.02      3.77         8.46         82.74  \n",
      "2     15.85     12.88      3.79         3.31         35.82  \n",
      "3     15.75     11.01      3.28         2.96         33.00  \n",
      "7     14.03      9.20      2.93         2.85         29.02  \n",
      "8     14.59      7.06      4.70         2.26         28.62  \n"
     ]
    }
   ],
   "source": [
    "print(\"\\n 2.2.2\")\n",
    "act_g_h_s = df[(df['Genre'] == 'Action') & (df['Global_Sales'] > 10)]\n",
    "print(wii_games.head())"
   ]
  },
  {
   "cell_type": "code",
   "execution_count": 26,
   "id": "5bf3dd79",
   "metadata": {},
   "outputs": [
    {
     "name": "stdout",
     "output_type": "stream",
     "text": [
      "\n",
      " 2.2.3\n",
      "                       Name Platform    Year  Global_Sales\n",
      "0                Wii Sports      Wii  2006.0         82.74\n",
      "1         Super Mario Bros.      NES  1985.0         40.24\n",
      "2            Mario Kart Wii      Wii  2008.0         35.82\n",
      "3         Wii Sports Resort      Wii  2009.0         33.00\n",
      "4  Pokemon Red/Pokemon Blue       GB  1996.0         31.37\n"
     ]
    }
   ],
   "source": [
    "print(\"\\n 2.2.3\")\n",
    "filtered_df = df[df['Publisher'].isin(['Nintendo', 'Sony Computer Entertainment'])]\n",
    "selected_columns = filtered_df[['Name', 'Platform', 'Year', 'Global_Sales']]\n",
    "print(selected_columns.head())"
   ]
  },
  {
   "cell_type": "code",
   "execution_count": 25,
   "id": "61987d5a",
   "metadata": {},
   "outputs": [
    {
     "name": "stdout",
     "output_type": "stream",
     "text": [
      "\n",
      " 2.3\n",
      "                                       Name     Genre  \\\n",
      "100  The Legend of Zelda: Twilight Princess    Action   \n",
      "101               Call of Duty: Black Ops 3   Shooter   \n",
      "102                              Just Dance      Misc   \n",
      "103                           Battlefield 3   Shooter   \n",
      "104              Need for Speed Underground    Racing   \n",
      "105                                Tekken 3  Fighting   \n",
      "\n",
      "                       Publisher  \n",
      "100                     Nintendo  \n",
      "101                   Activision  \n",
      "102                      Ubisoft  \n",
      "103              Electronic Arts  \n",
      "104              Electronic Arts  \n",
      "105  Sony Computer Entertainment  \n"
     ]
    }
   ],
   "source": [
    "print(\"\\n 2.3\")\n",
    "loc_selection = df.loc[100:105, ['Name', 'Genre', 'Publisher']]\n",
    "print(loc_selection)\n"
   ]
  }
 ],
 "metadata": {
  "kernelspec": {
   "display_name": ".venv",
   "language": "python",
   "name": "python3"
  },
  "language_info": {
   "codemirror_mode": {
    "name": "ipython",
    "version": 3
   },
   "file_extension": ".py",
   "mimetype": "text/x-python",
   "name": "python",
   "nbconvert_exporter": "python",
   "pygments_lexer": "ipython3",
   "version": "3.13.5"
  }
 },
 "nbformat": 4,
 "nbformat_minor": 5
}
