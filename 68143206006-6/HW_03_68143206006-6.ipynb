{
 "cells": [
  {
   "cell_type": "code",
   "execution_count": null,
   "id": "49b6f817",
   "metadata": {},
   "outputs": [],
   "source": [
    "import pandas as pd\n",
    "import numpy as np"
   ]
  },
  {
   "cell_type": "code",
   "execution_count": null,
   "id": "27869f4f",
   "metadata": {},
   "outputs": [
    {
     "name": "stdout",
     "output_type": "stream",
     "text": [
      "   StudentID FirstName   LastName                   Major  MidtermScore  \\\n",
      "0    6401001   Somchai     Jaidee    Computer Engineering          85.0   \n",
      "1    6401002    Somsri     Rakdee    Computer Engineering          76.0   \n",
      "2    6401003      Mana      Petch       Civil Engineering          65.0   \n",
      "3    6401004    Chujai      Klaew  Electrical Engineering          92.0   \n",
      "4    6401005      Piti     Yindee    Computer Engineering          88.0   \n",
      "5    6401006     Malee     Boonma       Civil Engineering           NaN   \n",
      "6    6401007     Weera    Chokdee  Electrical Engineering          78.0   \n",
      "7    6401008     Jinda     Suksai    Computer Engineering          95.0   \n",
      "8    6401009      Arun  Rungrueng  Industrial Engineering          55.0   \n",
      "9    6401010     Naree    Ngamdee       Civil Engineering          72.0   \n",
      "\n",
      "   FinalScore  ProjectScore  Attendance  \n",
      "0        90.0          45.0          95  \n",
      "1         NaN          48.0          88  \n",
      "2        72.0          38.0          92  \n",
      "3        95.0          50.0          98  \n",
      "4        85.0          42.0          85  \n",
      "5        65.0          35.0          75  \n",
      "6        82.0          40.0          90  \n",
      "7        98.0          49.0          99  \n",
      "8        60.0          30.0          68  \n",
      "9        78.0          41.0          94  \n",
      "<class 'pandas.core.frame.DataFrame'>\n",
      "RangeIndex: 15 entries, 0 to 14\n",
      "Data columns (total 8 columns):\n",
      " #   Column        Non-Null Count  Dtype  \n",
      "---  ------        --------------  -----  \n",
      " 0   StudentID     15 non-null     int64  \n",
      " 1   FirstName     15 non-null     object \n",
      " 2   LastName      15 non-null     object \n",
      " 3   Major         15 non-null     object \n",
      " 4   MidtermScore  13 non-null     float64\n",
      " 5   FinalScore    14 non-null     float64\n",
      " 6   ProjectScore  15 non-null     float64\n",
      " 7   Attendance    15 non-null     int64  \n",
      "dtypes: float64(3), int64(2), object(3)\n",
      "memory usage: 1.1+ KB\n"
     ]
    }
   ],
   "source": [
    "#1. การโหลดและตรวจสอบข้อมูลเบื้องต้น\n",
    "df = pd.read_csv('std.csv')\n",
    "print(df.head(10))\n",
    "df.info()\n",
    "#MidtermScore หายไป มีชนิดข้อมูล เป็น float"
   ]
  },
  {
   "cell_type": "code",
   "execution_count": null,
   "id": "b39cc6d7",
   "metadata": {},
   "outputs": [
    {
     "name": "stdout",
     "output_type": "stream",
     "text": [
      "StudentID       0\n",
      "FirstName       0\n",
      "LastName        0\n",
      "Major           0\n",
      "MidtermScore    2\n",
      "FinalScore      1\n",
      "ProjectScore    0\n",
      "Attendance      0\n",
      "dtype: int64\n"
     ]
    }
   ],
   "source": [
    "#2. การจัดการข้อมูลที่ขาดหาย (Missing Data)\n",
    "print(df.isnull().sum())"
   ]
  },
  {
   "cell_type": "code",
   "execution_count": 4,
   "id": "553de000",
   "metadata": {},
   "outputs": [
    {
     "name": "stdout",
     "output_type": "stream",
     "text": [
      "StudentID       0\n",
      "FirstName       0\n",
      "LastName        0\n",
      "Major           0\n",
      "MidtermScore    0\n",
      "FinalScore      0\n",
      "ProjectScore    0\n",
      "Attendance      0\n",
      "dtype: int64\n"
     ]
    }
   ],
   "source": [
    "df.fillna({'MidtermScore': df['MidtermScore'].median(),'FinalScore': df['FinalScore'].median()}, inplace=True)\n",
    "print(df.isnull().sum())"
   ]
  },
  {
   "cell_type": "code",
   "execution_count": null,
   "id": "93f4b2f6",
   "metadata": {},
   "outputs": [
    {
     "data": {
      "text/plain": [
       "StudentID         int64\n",
       "FirstName        object\n",
       "LastName         object\n",
       "Major            object\n",
       "MidtermScore    float64\n",
       "FinalScore      float64\n",
       "ProjectScore      int64\n",
       "Attendance        int64\n",
       "dtype: object"
      ]
     },
     "execution_count": 5,
     "metadata": {},
     "output_type": "execute_result"
    }
   ],
   "source": [
    "#3. การแปลงชนิดข้อมูล (Data Type Conversion)\n",
    "df['ProjectScore'] = df['ProjectScore'].astype(int)\n",
    "df.dtypes"
   ]
  },
  {
   "cell_type": "code",
   "execution_count": null,
   "id": "50400ee9",
   "metadata": {},
   "outputs": [
    {
     "name": "stdout",
     "output_type": "stream",
     "text": [
      "0     Somchai Jaidee\n",
      "1      Somsri Rakdee\n",
      "2         Mana Petch\n",
      "3       Chujai Klaew\n",
      "4        Piti Yindee\n",
      "5       Malee Boonma\n",
      "6      Weera Chokdee\n",
      "7       Jinda Suksai\n",
      "8     Arun Rungrueng\n",
      "9      Naree Ngamdee\n",
      "10       David Smith\n",
      "11       Emily Jones\n",
      "12     Michael Brown\n",
      "13     Jessica Davis\n",
      "14      Chris Wilson\n",
      "Name: FullName, dtype: object\n"
     ]
    }
   ],
   "source": [
    "#4. การสร้างคอลัมน์ใหม่จากข้อมูลเดิม\n",
    "df['FullName'] = df['FirstName'] + ' ' + df['LastName']\n",
    "print(df['FullName'])\n"
   ]
  },
  {
   "cell_type": "code",
   "execution_count": null,
   "id": "7c3e111c",
   "metadata": {},
   "outputs": [
    {
     "name": "stdout",
     "output_type": "stream",
     "text": [
      "          FullName  TotalScore\n",
      "0   Somchai Jaidee       220.0\n",
      "1    Somsri Rakdee       205.0\n",
      "2       Mana Petch       175.0\n",
      "3     Chujai Klaew       237.0\n",
      "4      Piti Yindee       215.0\n",
      "5     Malee Boonma       178.0\n",
      "6    Weera Chokdee       200.0\n",
      "7     Jinda Suksai       242.0\n",
      "8   Arun Rungrueng       145.0\n",
      "9    Naree Ngamdee       191.0\n",
      "10     David Smith       248.0\n",
      "11     Emily Jones       182.0\n",
      "12   Michael Brown       205.0\n",
      "13   Jessica Davis       217.0\n",
      "14    Chris Wilson       165.0\n"
     ]
    }
   ],
   "source": [
    "#5. การคํานวณคะแนนรวม\n",
    "df['TotalScore'] = df['MidtermScore'] + df['FinalScore'] + df['ProjectScore']\n",
    "print(df[['FullName', 'TotalScore']])"
   ]
  },
  {
   "cell_type": "code",
   "execution_count": null,
   "id": "aafd0d01",
   "metadata": {},
   "outputs": [
    {
     "name": "stdout",
     "output_type": "stream",
     "text": [
      "          FullName       Avgs\n",
      "0   Somchai Jaidee  73.333333\n",
      "1    Somsri Rakdee  68.333333\n",
      "2       Mana Petch  58.333333\n",
      "3     Chujai Klaew  79.000000\n",
      "4      Piti Yindee  71.666667\n",
      "5     Malee Boonma  59.333333\n",
      "6    Weera Chokdee  66.666667\n",
      "7     Jinda Suksai  80.666667\n",
      "8   Arun Rungrueng  48.333333\n",
      "9    Naree Ngamdee  63.666667\n",
      "10     David Smith  82.666667\n",
      "11     Emily Jones  60.666667\n",
      "12   Michael Brown  68.333333\n",
      "13   Jessica Davis  72.333333\n",
      "14    Chris Wilson  55.000000\n"
     ]
    }
   ],
   "source": [
    "#6. การคํานวณและตัดเกรด\n",
    "df['Avgs'] = df['TotalScore'] /3\n",
    "print(df[['FullName', 'Avgs']])"
   ]
  },
  {
   "cell_type": "code",
   "execution_count": 33,
   "id": "92c50a52",
   "metadata": {},
   "outputs": [
    {
     "name": "stdout",
     "output_type": "stream",
     "text": [
      "          FullName FinalGrade\n",
      "0   Somchai Jaidee          B\n",
      "1    Somsri Rakdee         C+\n",
      "2       Mana Petch         D+\n",
      "3     Chujai Klaew         B+\n",
      "4      Piti Yindee          B\n",
      "5     Malee Boonma         D+\n",
      "6    Weera Chokdee         C+\n",
      "7     Jinda Suksai          A\n",
      "8   Arun Rungrueng          F\n",
      "9    Naree Ngamdee          C\n",
      "10     David Smith          A\n",
      "11     Emily Jones          C\n",
      "12   Michael Brown         C+\n",
      "13   Jessica Davis          B\n",
      "14    Chris Wilson         D+\n"
     ]
    }
   ],
   "source": [
    "def cal_g(total_score):\n",
    "    if total_score >= 80:\n",
    "        return 'A'\n",
    "    elif total_score >= 75:\n",
    "        return 'B+'\n",
    "    elif total_score >= 70:\n",
    "        return 'B'\n",
    "    elif total_score >= 65:\n",
    "        return 'C+'\n",
    "    elif total_score >= 60:\n",
    "        return 'C'\n",
    "    elif total_score >= 55:\n",
    "        return 'D+'\n",
    "    elif total_score >= 50:\n",
    "        return 'D'\n",
    "    else:\n",
    "        return 'F'\n",
    "df['FinalGrade'] = df['Avgs'].apply(cal_g)\n",
    "print(df[['FullName', 'FinalGrade']])"
   ]
  },
  {
   "cell_type": "code",
   "execution_count": null,
   "id": "87287d4f",
   "metadata": {},
   "outputs": [
    {
     "name": "stdout",
     "output_type": "stream",
     "text": [
      "        FullName                 Major FinalGrade\n",
      "7   Jinda Suksai  Computer Engineering          A\n",
      "10   David Smith  Computer Engineering          A\n",
      "          FullName  Attendance\n",
      "8   Arun Rungrueng          68\n",
      "14    Chris Wilson          65\n"
     ]
    }
   ],
   "source": [
    "#7. การคัดกรองข้อมูลตามเงื่อนไขที่ซับซ้อน\n",
    "cpe_a = df[(df['Major'] == 'Computer Engineering') & (df['FinalGrade'] == 'A')]\n",
    "print(cpe_a[['FullName', 'Major', 'FinalGrade']])\n",
    "la = df[df['Attendance'] < 70]\n",
    "print(la[['FullName', 'Attendance']])\n"
   ]
  },
  {
   "cell_type": "code",
   "execution_count": null,
   "id": "798c155e",
   "metadata": {},
   "outputs": [
    {
     "name": "stdout",
     "output_type": "stream",
     "text": [
      "          FullName                   Major  TotalScore FinalGrade\n",
      "10     David Smith    Computer Engineering       248.0          A\n",
      "7     Jinda Suksai    Computer Engineering       242.0          A\n",
      "3     Chujai Klaew  Electrical Engineering       237.0         B+\n",
      "0   Somchai Jaidee    Computer Engineering       220.0          B\n",
      "13   Jessica Davis    Computer Engineering       217.0          B\n"
     ]
    }
   ],
   "source": [
    "#8. การเรียงลําดับข้อมูล\n",
    "sortdf = df.sort_values(by='TotalScore', ascending=False)\n",
    "top5 = sortdf.head(5)\n",
    "print(top5[['FullName', 'Major', 'TotalScore', 'FinalGrade']])\n"
   ]
  },
  {
   "cell_type": "code",
   "execution_count": null,
   "id": "10f70b02",
   "metadata": {},
   "outputs": [
    {
     "name": "stdout",
     "output_type": "stream",
     "text": [
      "                        TotalScore  FinalScore\n",
      "Major                                         \n",
      "Civil Engineering       187.250000       73.75\n",
      "Computer Engineering    224.500000       91.00\n",
      "Electrical Engineering  206.333333       84.00\n",
      "Industrial Engineering  155.000000       65.00\n"
     ]
    }
   ],
   "source": [
    "#9. การจัดกลุ่มและสรุปผลข้อมูล (Grouping and Aggregation)\n",
    "gdf = df.groupby('Major').agg({'TotalScore': 'mean','FinalScore': 'mean'})\n",
    "print(gdf)\n",
    "#สาขา Computer Engineering"
   ]
  },
  {
   "cell_type": "code",
   "execution_count": null,
   "id": "8cd7a39c",
   "metadata": {},
   "outputs": [
    {
     "name": "stdout",
     "output_type": "stream",
     "text": [
      "    StudentID        FullName                   Major  TotalScore FinalGrade\n",
      "0     6401001  Somchai Jaidee    Computer Engineering       220.0          B\n",
      "1     6401002   Somsri Rakdee    Computer Engineering       205.0         C+\n",
      "2     6401003      Mana Petch       Civil Engineering       175.0         D+\n",
      "3     6401004    Chujai Klaew  Electrical Engineering       237.0         B+\n",
      "4     6401005     Piti Yindee    Computer Engineering       215.0          B\n",
      "5     6401006    Malee Boonma       Civil Engineering       178.0         D+\n",
      "6     6401007   Weera Chokdee  Electrical Engineering       200.0         C+\n",
      "7     6401008    Jinda Suksai    Computer Engineering       242.0          A\n",
      "8     6401009  Arun Rungrueng  Industrial Engineering       145.0          F\n",
      "9     6401010   Naree Ngamdee       Civil Engineering       191.0          C\n",
      "10    6401011     David Smith    Computer Engineering       248.0          A\n",
      "11    6401012     Emily Jones  Electrical Engineering       182.0          C\n",
      "12    6401013   Michael Brown       Civil Engineering       205.0         C+\n",
      "13    6401014   Jessica Davis    Computer Engineering       217.0          B\n",
      "14    6401015    Chris Wilson  Industrial Engineering       165.0         D+\n"
     ]
    }
   ],
   "source": [
    "#10. การเตรียมและการบันทึกรายงานสรุป\n",
    "report_df = df[[ 'StudentID' , 'FullName' , 'Major' , 'TotalScore' , 'FinalGrade']]\n",
    "print (report_df)\n",
    "fn = 'student_grade_report.csv'\n",
    "report_df.to_csv(fn, index=False)"
   ]
  }
 ],
 "metadata": {
  "kernelspec": {
   "display_name": ".venv",
   "language": "python",
   "name": "python3"
  },
  "language_info": {
   "codemirror_mode": {
    "name": "ipython",
    "version": 3
   },
   "file_extension": ".py",
   "mimetype": "text/x-python",
   "name": "python",
   "nbconvert_exporter": "python",
   "pygments_lexer": "ipython3",
   "version": "3.13.5"
  }
 },
 "nbformat": 4,
 "nbformat_minor": 5
}
